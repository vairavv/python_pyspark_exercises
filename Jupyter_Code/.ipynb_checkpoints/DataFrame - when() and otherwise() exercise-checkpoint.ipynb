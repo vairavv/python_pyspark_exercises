{
 "cells": [
  {
   "cell_type": "code",
   "execution_count": 23,
   "id": "56bc1ee6",
   "metadata": {},
   "outputs": [],
   "source": [
    "from pyspark.sql import SparkSession\n",
    "\n",
    "from pyspark.sql.functions import col,when\n",
    "\n",
    "spark = SparkSession.builder.appName(\"YourSparkApplication\").master(\"local[*]\").getOrCreate()"
   ]
  },
  {
   "cell_type": "code",
   "execution_count": 2,
   "id": "c7fafb87",
   "metadata": {},
   "outputs": [],
   "source": [
    "data = [(\"James\",\"M\",60000),(\"Michael\",\"M\",70000),\n",
    "        (\"Robert\",None,400000),(\"Maria\",\"F\",500000),\n",
    "        (\"Jen\",\"\",None)]"
   ]
  },
  {
   "cell_type": "code",
   "execution_count": 3,
   "id": "7666c20f",
   "metadata": {},
   "outputs": [],
   "source": [
    "columns =['name','gender','salary']"
   ]
  },
  {
   "cell_type": "code",
   "execution_count": 4,
   "id": "ffc16596",
   "metadata": {},
   "outputs": [],
   "source": [
    "df =spark.createDataFrame(data,columns)"
   ]
  },
  {
   "cell_type": "code",
   "execution_count": 5,
   "id": "da61032b",
   "metadata": {},
   "outputs": [
    {
     "name": "stdout",
     "output_type": "stream",
     "text": [
      "+-------+------+------+\n",
      "|   name|gender|salary|\n",
      "+-------+------+------+\n",
      "|  James|     M| 60000|\n",
      "|Michael|     M| 70000|\n",
      "| Robert|  null|400000|\n",
      "|  Maria|     F|500000|\n",
      "|    Jen|      |  null|\n",
      "+-------+------+------+\n",
      "\n"
     ]
    }
   ],
   "source": [
    "df.show()"
   ]
  },
  {
   "cell_type": "code",
   "execution_count": 25,
   "id": "bbf5f960",
   "metadata": {},
   "outputs": [
    {
     "name": "stdout",
     "output_type": "stream",
     "text": [
      "+-------+------+------+------------------+\n",
      "|   name|gender|salary|gender_abbrevation|\n",
      "+-------+------+------+------------------+\n",
      "|  James|     M| 60000|              male|\n",
      "|Michael|     M| 70000|              male|\n",
      "| Robert|  null|400000|        Null_value|\n",
      "|  Maria|     F|500000|            female|\n",
      "|    Jen|      |  null|           default|\n",
      "+-------+------+------+------------------+\n",
      "\n"
     ]
    }
   ],
   "source": [
    "df.withColumn('gender_abbrevation',when(col('gender')=='M','male')\n",
    "                                   .when(col('gender')=='F','female')\n",
    "                                   .when(col('gender').isNull(),'Null_value')\n",
    "                                   .otherwise('default')     \n",
    "                                         \n",
    "             ).show()"
   ]
  },
  {
   "cell_type": "code",
   "execution_count": null,
   "id": "73fb8922",
   "metadata": {},
   "outputs": [],
   "source": []
  }
 ],
 "metadata": {
  "kernelspec": {
   "display_name": "Python 3 (ipykernel)",
   "language": "python",
   "name": "python3"
  },
  "language_info": {
   "codemirror_mode": {
    "name": "ipython",
    "version": 3
   },
   "file_extension": ".py",
   "mimetype": "text/x-python",
   "name": "python",
   "nbconvert_exporter": "python",
   "pygments_lexer": "ipython3",
   "version": "3.9.7"
  }
 },
 "nbformat": 4,
 "nbformat_minor": 5
}
