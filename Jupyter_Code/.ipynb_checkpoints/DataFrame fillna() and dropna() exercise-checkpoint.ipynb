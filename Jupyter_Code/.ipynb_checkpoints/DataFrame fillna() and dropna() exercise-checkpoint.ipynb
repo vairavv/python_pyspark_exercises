{
 "cells": [
  {
   "cell_type": "code",
   "execution_count": 1,
   "id": "718b00e3",
   "metadata": {},
   "outputs": [],
   "source": [
    "from pyspark.sql import SparkSession\n",
    "\n",
    "from pyspark.sql.functions import col\n",
    "\n",
    "spark = SparkSession.builder.appName(\"YourSparkApplication\").master(\"local[*]\").getOrCreate()"
   ]
  },
  {
   "cell_type": "code",
   "execution_count": 3,
   "id": "76f04289",
   "metadata": {},
   "outputs": [],
   "source": [
    "df=spark.read.csv(r\"C:\\Users\\Muthu\\Music\\small_zipcode.csv\",header=True,inferSchema=True)"
   ]
  },
  {
   "cell_type": "code",
   "execution_count": 4,
   "id": "da5149cb",
   "metadata": {},
   "outputs": [
    {
     "name": "stdout",
     "output_type": "stream",
     "text": [
      "root\n",
      " |-- id: integer (nullable = true)\n",
      " |-- zipcode: integer (nullable = true)\n",
      " |-- type: string (nullable = true)\n",
      " |-- city: string (nullable = true)\n",
      " |-- state: string (nullable = true)\n",
      " |-- population: integer (nullable = true)\n",
      "\n"
     ]
    }
   ],
   "source": [
    "df.printSchema()"
   ]
  },
  {
   "cell_type": "code",
   "execution_count": 5,
   "id": "6f7b1ab2",
   "metadata": {},
   "outputs": [
    {
     "name": "stdout",
     "output_type": "stream",
     "text": [
      "+---+-------+--------+-------------------+-----+----------+\n",
      "| id|zipcode|    type|               city|state|population|\n",
      "+---+-------+--------+-------------------+-----+----------+\n",
      "|  1|    704|STANDARD|               null|   PR|     30100|\n",
      "|  2|    704|    null|PASEO COSTA DEL SUR|   PR|      null|\n",
      "|  3|    709|    null|       BDA SAN LUIS|   PR|      3700|\n",
      "|  4|  76166|  UNIQUE|  CINGULAR WIRELESS|   TX|     84000|\n",
      "|  5|  76177|STANDARD|               null|   TX|      null|\n",
      "+---+-------+--------+-------------------+-----+----------+\n",
      "\n"
     ]
    }
   ],
   "source": [
    "df.show()"
   ]
  },
  {
   "cell_type": "markdown",
   "id": "8132860c",
   "metadata": {},
   "source": [
    "### fillna parameters (value, subset)\n",
    "\n",
    "### value - int, float,string,bool or dict.\n",
    "\n",
    "### subset - can be string , tuple or list. list of columns to consider\n",
    "\n",
    "### if dict is leveraged in value parameter, subset is not needed.\n",
    "\n"
   ]
  },
  {
   "cell_type": "code",
   "execution_count": 6,
   "id": "19fe9287",
   "metadata": {},
   "outputs": [
    {
     "name": "stdout",
     "output_type": "stream",
     "text": [
      "+---+-------+--------+-------------------+-----+----------+\n",
      "| id|zipcode|    type|               city|state|population|\n",
      "+---+-------+--------+-------------------+-----+----------+\n",
      "|  1|    704|STANDARD|               null|   PR|     30100|\n",
      "|  2|    704| unknown|PASEO COSTA DEL SUR|   PR|         0|\n",
      "|  3|    709| unknown|       BDA SAN LUIS|   PR|      3700|\n",
      "|  4|  76166|  UNIQUE|  CINGULAR WIRELESS|   TX|     84000|\n",
      "|  5|  76177|STANDARD|               null|   TX|         0|\n",
      "+---+-------+--------+-------------------+-----+----------+\n",
      "\n"
     ]
    }
   ],
   "source": [
    "df.fillna(value={'type':'unknown', 'population':0}).show()"
   ]
  },
  {
   "cell_type": "code",
   "execution_count": 7,
   "id": "ea6fcb37",
   "metadata": {},
   "outputs": [
    {
     "name": "stdout",
     "output_type": "stream",
     "text": [
      "+---+-------+--------+-------------------+-----+----------+\n",
      "| id|zipcode|    type|               city|state|population|\n",
      "+---+-------+--------+-------------------+-----+----------+\n",
      "|  1|    704|STANDARD|               null|   PR|     30100|\n",
      "|  2|    704| unknown|PASEO COSTA DEL SUR|   PR|      null|\n",
      "|  3|    709| unknown|       BDA SAN LUIS|   PR|      3700|\n",
      "|  4|  76166|  UNIQUE|  CINGULAR WIRELESS|   TX|     84000|\n",
      "|  5|  76177|STANDARD|               null|   TX|      null|\n",
      "+---+-------+--------+-------------------+-----+----------+\n",
      "\n"
     ]
    }
   ],
   "source": [
    "df.fillna('unknown',['type','population']).show()"
   ]
  },
  {
   "cell_type": "markdown",
   "id": "325d0742",
   "metadata": {},
   "source": [
    "### In the above scenario, 'unknown' value is assigned to replace columns 'type' and 'population' . since the 'population' column is integer, string value 'unknown' is not assigned."
   ]
  },
  {
   "cell_type": "code",
   "execution_count": 8,
   "id": "f53a3772",
   "metadata": {},
   "outputs": [
    {
     "name": "stdout",
     "output_type": "stream",
     "text": [
      "+---+-------+--------+-------------------+-----+----------+\n",
      "| id|zipcode|    type|               city|state|population|\n",
      "+---+-------+--------+-------------------+-----+----------+\n",
      "|  1|    704|STANDARD|               null|   PR|     30100|\n",
      "|  2|    704|    null|PASEO COSTA DEL SUR|   PR|      null|\n",
      "|  3|    709|    null|       BDA SAN LUIS|   PR|      3700|\n",
      "|  4|  76166|  UNIQUE|  CINGULAR WIRELESS|   TX|     84000|\n",
      "|  5|  76177|STANDARD|               null|   TX|      null|\n",
      "+---+-------+--------+-------------------+-----+----------+\n",
      "\n"
     ]
    }
   ],
   "source": [
    "df.show()"
   ]
  },
  {
   "cell_type": "markdown",
   "id": "c8a26b8e",
   "metadata": {},
   "source": [
    "### - by default, it drops a row if any of the column value has null value.\n",
    "\n",
    "### - 'all' : drops a row if all the column value has got null\n",
    "\n",
    "### - subset : checks specific column for null values"
   ]
  },
  {
   "cell_type": "code",
   "execution_count": 9,
   "id": "ed4f0668",
   "metadata": {},
   "outputs": [
    {
     "name": "stdout",
     "output_type": "stream",
     "text": [
      "+---+-------+------+-----------------+-----+----------+\n",
      "| id|zipcode|  type|             city|state|population|\n",
      "+---+-------+------+-----------------+-----+----------+\n",
      "|  4|  76166|UNIQUE|CINGULAR WIRELESS|   TX|     84000|\n",
      "+---+-------+------+-----------------+-----+----------+\n",
      "\n"
     ]
    }
   ],
   "source": [
    "df.dropna().show()"
   ]
  },
  {
   "cell_type": "code",
   "execution_count": 10,
   "id": "160ca021",
   "metadata": {},
   "outputs": [
    {
     "name": "stdout",
     "output_type": "stream",
     "text": [
      "+---+-------+--------+-------------------+-----+----------+\n",
      "| id|zipcode|    type|               city|state|population|\n",
      "+---+-------+--------+-------------------+-----+----------+\n",
      "|  1|    704|STANDARD|               null|   PR|     30100|\n",
      "|  2|    704|    null|PASEO COSTA DEL SUR|   PR|      null|\n",
      "|  3|    709|    null|       BDA SAN LUIS|   PR|      3700|\n",
      "|  4|  76166|  UNIQUE|  CINGULAR WIRELESS|   TX|     84000|\n",
      "|  5|  76177|STANDARD|               null|   TX|      null|\n",
      "+---+-------+--------+-------------------+-----+----------+\n",
      "\n"
     ]
    }
   ],
   "source": [
    "df.dropna('all').show()"
   ]
  },
  {
   "cell_type": "code",
   "execution_count": 11,
   "id": "d4637e3e",
   "metadata": {},
   "outputs": [
    {
     "name": "stdout",
     "output_type": "stream",
     "text": [
      "+---+-------+--------+-----------------+-----+----------+\n",
      "| id|zipcode|    type|             city|state|population|\n",
      "+---+-------+--------+-----------------+-----+----------+\n",
      "|  1|    704|STANDARD|             null|   PR|     30100|\n",
      "|  3|    709|    null|     BDA SAN LUIS|   PR|      3700|\n",
      "|  4|  76166|  UNIQUE|CINGULAR WIRELESS|   TX|     84000|\n",
      "+---+-------+--------+-----------------+-----+----------+\n",
      "\n"
     ]
    }
   ],
   "source": [
    "df.dropna(subset=['population']).show()"
   ]
  },
  {
   "cell_type": "code",
   "execution_count": 12,
   "id": "a4874b7a",
   "metadata": {},
   "outputs": [
    {
     "name": "stdout",
     "output_type": "stream",
     "text": [
      "+---+-------+--------+-----+----------+\n",
      "| id|zipcode|    type|state|population|\n",
      "+---+-------+--------+-----+----------+\n",
      "|  1|    704|STANDARD|   PR|     30100|\n",
      "|  2|    704|    null|   PR|      null|\n",
      "|  3|    709|    null|   PR|      3700|\n",
      "|  4|  76166|  UNIQUE|   TX|     84000|\n",
      "|  5|  76177|STANDARD|   TX|      null|\n",
      "+---+-------+--------+-----+----------+\n",
      "\n"
     ]
    }
   ],
   "source": [
    "df.drop('city').show()"
   ]
  },
  {
   "cell_type": "code",
   "execution_count": null,
   "id": "75fff742",
   "metadata": {},
   "outputs": [],
   "source": []
  }
 ],
 "metadata": {
  "kernelspec": {
   "display_name": "Python 3 (ipykernel)",
   "language": "python",
   "name": "python3"
  },
  "language_info": {
   "codemirror_mode": {
    "name": "ipython",
    "version": 3
   },
   "file_extension": ".py",
   "mimetype": "text/x-python",
   "name": "python",
   "nbconvert_exporter": "python",
   "pygments_lexer": "ipython3",
   "version": "3.9.7"
  }
 },
 "nbformat": 4,
 "nbformat_minor": 5
}
