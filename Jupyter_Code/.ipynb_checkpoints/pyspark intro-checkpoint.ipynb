{
 "cells": [
  {
   "cell_type": "code",
   "execution_count": 8,
   "id": "5a01dcaf",
   "metadata": {},
   "outputs": [],
   "source": [
    "from pyspark.sql import SparkSession\n",
    "\n",
    "spark = SparkSession.builder.appName(\"YourSparkApplication\").master(\"local[*]\").getOrCreate()\n",
    "\n",
    "# The SparkContext is available through the SparkSession\n",
    "sc = spark.sparkContext"
   ]
  },
  {
   "cell_type": "code",
   "execution_count": 9,
   "id": "b291653c",
   "metadata": {},
   "outputs": [],
   "source": [
    "sam_rdd=sc.parallelize([1,2,3,4])"
   ]
  },
  {
   "cell_type": "code",
   "execution_count": 11,
   "id": "27ef9040",
   "metadata": {},
   "outputs": [
    {
     "data": {
      "text/plain": [
       "[1, 2, 3, 4]"
      ]
     },
     "execution_count": 11,
     "metadata": {},
     "output_type": "execute_result"
    }
   ],
   "source": [
    "sam_rdd.collect()"
   ]
  },
  {
   "cell_type": "code",
   "execution_count": 12,
   "id": "cca5c872",
   "metadata": {},
   "outputs": [
    {
     "data": {
      "text/plain": [
       "pyspark.rdd.RDD"
      ]
     },
     "execution_count": 12,
     "metadata": {},
     "output_type": "execute_result"
    }
   ],
   "source": [
    "type(sam_rdd)"
   ]
  },
  {
   "cell_type": "code",
   "execution_count": 14,
   "id": "de703d74",
   "metadata": {},
   "outputs": [
    {
     "data": {
      "text/plain": [
       "[1, 4, 9, 16]"
      ]
     },
     "execution_count": 14,
     "metadata": {},
     "output_type": "execute_result"
    }
   ],
   "source": [
    "sam_rdd.map(lambda x:x**2).collect()"
   ]
  },
  {
   "cell_type": "markdown",
   "id": "0e3ad4b4",
   "metadata": {},
   "source": [
    "FlatMap Examples"
   ]
  },
  {
   "cell_type": "code",
   "execution_count": 24,
   "id": "79b5564b",
   "metadata": {},
   "outputs": [],
   "source": [
    "name_lst=['muthu','nila','magi']\n",
    "\n",
    "name_rdd =sc.parallelize(name_lst).flatMap(lambda x:[x,1])"
   ]
  },
  {
   "cell_type": "code",
   "execution_count": 26,
   "id": "829b7ac4",
   "metadata": {},
   "outputs": [
    {
     "data": {
      "text/plain": [
       "PythonRDD[9] at RDD at PythonRDD.scala:53"
      ]
     },
     "execution_count": 26,
     "metadata": {},
     "output_type": "execute_result"
    }
   ],
   "source": [
    "name_rdd"
   ]
  },
  {
   "cell_type": "code",
   "execution_count": 27,
   "id": "aa1824d0",
   "metadata": {},
   "outputs": [
    {
     "data": {
      "text/plain": [
       "['muthu', 1, 'nila', 1, 'magi', 1]"
      ]
     },
     "execution_count": 27,
     "metadata": {},
     "output_type": "execute_result"
    }
   ],
   "source": [
    "name_rdd.collect()"
   ]
  },
  {
   "cell_type": "markdown",
   "id": "b3957434",
   "metadata": {},
   "source": [
    "Example:Reading a data from a Text file and using Filter."
   ]
  },
  {
   "cell_type": "code",
   "execution_count": 42,
   "id": "d56899a4",
   "metadata": {},
   "outputs": [],
   "source": [
    "text_=sc.textFile(r\"C:\\Users\\Muthu\\Music\\data_file1.txt\")"
   ]
  },
  {
   "cell_type": "code",
   "execution_count": 44,
   "id": "c056023e",
   "metadata": {},
   "outputs": [
    {
     "data": {
      "text/plain": [
       "['hi,how,are,you',\n",
       " 'welcome,to,the,world,of,spark',\n",
       " 'hope, to , learn,consistently']"
      ]
     },
     "execution_count": 44,
     "metadata": {},
     "output_type": "execute_result"
    }
   ],
   "source": [
    "text_.collect()"
   ]
  },
  {
   "cell_type": "code",
   "execution_count": 46,
   "id": "2fed96f2",
   "metadata": {
    "scrolled": false
   },
   "outputs": [
    {
     "data": {
      "text/plain": [
       "pyspark.rdd.RDD"
      ]
     },
     "execution_count": 46,
     "metadata": {},
     "output_type": "execute_result"
    }
   ],
   "source": [
    "type(text_)"
   ]
  },
  {
   "cell_type": "code",
   "execution_count": 47,
   "id": "bec84a23",
   "metadata": {},
   "outputs": [
    {
     "data": {
      "text/plain": [
       "['welcome,to,the,world,of,spark']"
      ]
     },
     "execution_count": 47,
     "metadata": {},
     "output_type": "execute_result"
    }
   ],
   "source": [
    "text_.filter(lambda x :'welcome' in x).collect()"
   ]
  },
  {
   "cell_type": "code",
   "execution_count": 51,
   "id": "e53960c2",
   "metadata": {},
   "outputs": [
    {
     "data": {
      "text/plain": [
       "[['hi', 'how', 'are', 'you'],\n",
       " ['welcome', 'to', 'the', 'world', 'of', 'spark'],\n",
       " ['hope', ' to ', ' learn', 'consistently']]"
      ]
     },
     "execution_count": 51,
     "metadata": {},
     "output_type": "execute_result"
    }
   ],
   "source": [
    "text_.map(lambda line:line.split(',')).collect()"
   ]
  },
  {
   "cell_type": "code",
   "execution_count": null,
   "id": "db71a920",
   "metadata": {},
   "outputs": [],
   "source": []
  }
 ],
 "metadata": {
  "kernelspec": {
   "display_name": "Python 3 (ipykernel)",
   "language": "python",
   "name": "python3"
  },
  "language_info": {
   "codemirror_mode": {
    "name": "ipython",
    "version": 3
   },
   "file_extension": ".py",
   "mimetype": "text/x-python",
   "name": "python",
   "nbconvert_exporter": "python",
   "pygments_lexer": "ipython3",
   "version": "3.9.7"
  }
 },
 "nbformat": 4,
 "nbformat_minor": 5
}
