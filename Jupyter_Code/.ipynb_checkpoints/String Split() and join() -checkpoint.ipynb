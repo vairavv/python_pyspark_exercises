{
 "cells": [
  {
   "cell_type": "markdown",
   "metadata": {},
   "source": [
    "## String Split()"
   ]
  },
  {
   "cell_type": "code",
   "execution_count": 1,
   "metadata": {},
   "outputs": [
    {
     "name": "stdout",
     "output_type": "stream",
     "text": [
      "['geeks', 'for', 'geeks', 'turn']\n"
     ]
    }
   ],
   "source": [
    "word ='geeks,for,geeks,turn'\n",
    "\n",
    "print(word.split(','))"
   ]
  },
  {
   "cell_type": "code",
   "execution_count": 2,
   "metadata": {},
   "outputs": [
    {
     "name": "stdout",
     "output_type": "stream",
     "text": [
      "['geeks', 'for', 'geeks,turn']\n"
     ]
    }
   ],
   "source": [
    "print(word.split(',',2))"
   ]
  },
  {
   "cell_type": "markdown",
   "metadata": {},
   "source": [
    "## String join()"
   ]
  },
  {
   "cell_type": "code",
   "execution_count": 4,
   "metadata": {},
   "outputs": [
    {
     "name": "stdout",
     "output_type": "stream",
     "text": [
      "['m', 'u', 't', 'h', 'u', 'v', 'a', 'i', 'r', 'a', 'v', 'a', 'n', 'p', 'o', 'n', 'l', 'a', 'k', 's', 'h', 'm', 'i']\n",
      "muthuvairavanponlakshmi\n"
     ]
    }
   ],
   "source": [
    "strng='muthuvairavanponlakshmi'\n",
    "lst =list(strng)\n",
    "\n",
    "print(lst)\n",
    "\n",
    "new_strng =''.join(lst)\n",
    "\n",
    "print(new_strng)\n",
    "\n",
    "\n"
   ]
  },
  {
   "cell_type": "code",
   "execution_count": 8,
   "metadata": {},
   "outputs": [
    {
     "name": "stdout",
     "output_type": "stream",
     "text": [
      "<class 'str'>\n",
      "<class 'list'>\n",
      "['m', 'u', 't', 'h', 'u', 'v', 'a', 'i', 'r', 'a', 'v', 'a', 'n', 'p', 'o', 'n', 'l', 'a', 'k', 's', 'h', 'm', 'i']\n",
      "['m', 'u', 't', 'h', 'u', 'v', 'a', 'i', 'r', 'a', 'v', 'a', 'n', 'p', 'o', 'n', 'l', 'a', 'k', 's', 'h', 'm', 'i']\n"
     ]
    }
   ],
   "source": [
    "new_str =str(lst)\n",
    "\n",
    "print(type(new_str))\n",
    "\n",
    "print(type(lst))\n",
    "\n",
    "print(lst)\n",
    "\n",
    "print(new_str)"
   ]
  },
  {
   "cell_type": "code",
   "execution_count": null,
   "metadata": {},
   "outputs": [],
   "source": []
  }
 ],
 "metadata": {
  "kernelspec": {
   "display_name": "Python 3 (ipykernel)",
   "language": "python",
   "name": "python3"
  },
  "language_info": {
   "codemirror_mode": {
    "name": "ipython",
    "version": 3
   },
   "file_extension": ".py",
   "mimetype": "text/x-python",
   "name": "python",
   "nbconvert_exporter": "python",
   "pygments_lexer": "ipython3",
   "version": "3.9.7"
  }
 },
 "nbformat": 4,
 "nbformat_minor": 4
}
