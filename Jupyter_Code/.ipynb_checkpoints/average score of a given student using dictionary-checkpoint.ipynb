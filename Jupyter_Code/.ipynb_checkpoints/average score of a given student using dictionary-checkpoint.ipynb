{
 "cells": [
  {
   "cell_type": "code",
   "execution_count": 9,
   "metadata": {},
   "outputs": [
    {
     "name": "stdout",
     "output_type": "stream",
     "text": [
      "number of records2\n",
      "name and marks of a studentmuthu 100 95 40\n",
      "name and marks of a studentvairav 56 85 97\n",
      "{'muthu': ['100', '95', '40'], 'vairav': ['56', '85', '97']}\n",
      "name of a student to find the avg valuevairav\n",
      "79.33\n"
     ]
    }
   ],
   "source": [
    "n=int(input('number of records'))\n",
    "stud_marks={}\n",
    "for i in range(0,n):\n",
    "    inp =input('name and marks of a student').split()\n",
    "    for j in range(1,len(inp)):\n",
    "        if j==1:\n",
    "            stud_marks[inp[0]]=[inp[j]]\n",
    "        else:\n",
    "            stud_marks[inp[0]].append(inp[j])\n",
    "print(stud_marks)  \n",
    "\n",
    "query_name=input('name of a student to find the avg value')\n",
    "marks =stud_marks[query_name]\n",
    "total=0\n",
    "for x in marks:\n",
    "    total+=float(x)\n",
    "avg=total/len(marks)\n",
    "\n",
    "\n",
    "# print(round(avg,2)) -- round based on the input.different from format\n",
    "print('%0.2f'%avg)"
   ]
  },
  {
   "cell_type": "markdown",
   "metadata": {},
   "source": [
    "# dict assignment(basics)"
   ]
  },
  {
   "cell_type": "code",
   "execution_count": 8,
   "metadata": {},
   "outputs": [
    {
     "data": {
      "text/plain": [
       "{0: [1, 2]}"
      ]
     },
     "execution_count": 8,
     "metadata": {},
     "output_type": "execute_result"
    }
   ],
   "source": [
    "test={}\n",
    "\n",
    "test[0]=[1,2]\n",
    "\n",
    "test"
   ]
  },
  {
   "cell_type": "code",
   "execution_count": null,
   "metadata": {},
   "outputs": [],
   "source": []
  }
 ],
 "metadata": {
  "kernelspec": {
   "display_name": "Python 3 (ipykernel)",
   "language": "python",
   "name": "python3"
  },
  "language_info": {
   "codemirror_mode": {
    "name": "ipython",
    "version": 3
   },
   "file_extension": ".py",
   "mimetype": "text/x-python",
   "name": "python",
   "nbconvert_exporter": "python",
   "pygments_lexer": "ipython3",
   "version": "3.9.7"
  }
 },
 "nbformat": 4,
 "nbformat_minor": 4
}
