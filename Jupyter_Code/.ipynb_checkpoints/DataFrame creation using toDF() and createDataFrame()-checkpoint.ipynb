{
 "cells": [
  {
   "cell_type": "code",
   "execution_count": 1,
   "id": "486ddd68",
   "metadata": {},
   "outputs": [],
   "source": [
    "from pyspark.sql import SparkSession\n",
    "\n",
    "spark = SparkSession.builder.appName(\"YourSparkApplication\").master(\"local[*]\").getOrCreate()\n",
    "\n",
    "# The SparkContext is available through the SparkSession\n",
    "sc = spark.sparkContext"
   ]
  },
  {
   "cell_type": "code",
   "execution_count": 2,
   "id": "d94d6ece",
   "metadata": {},
   "outputs": [],
   "source": [
    "dept = [(\"Finance\",10),(\"Marketing\",20),(\"Sales\",30),(\"IT\",40)]"
   ]
  },
  {
   "cell_type": "code",
   "execution_count": 3,
   "id": "e13a3dd4",
   "metadata": {},
   "outputs": [],
   "source": [
    "dept_rdd=sc.parallelize(dept)"
   ]
  },
  {
   "cell_type": "code",
   "execution_count": 4,
   "id": "172019d7",
   "metadata": {},
   "outputs": [
    {
     "data": {
      "text/plain": [
       "[('Finance', 10), ('Marketing', 20), ('Sales', 30), ('IT', 40)]"
      ]
     },
     "execution_count": 4,
     "metadata": {},
     "output_type": "execute_result"
    }
   ],
   "source": [
    "dept_rdd.collect()"
   ]
  },
  {
   "cell_type": "markdown",
   "id": "50aa6257",
   "metadata": {},
   "source": [
    "## without column_name"
   ]
  },
  {
   "cell_type": "code",
   "execution_count": 5,
   "id": "cf45083a",
   "metadata": {},
   "outputs": [],
   "source": [
    "dept_df=dept_rdd.toDF()"
   ]
  },
  {
   "cell_type": "code",
   "execution_count": 6,
   "id": "ce4558c2",
   "metadata": {},
   "outputs": [
    {
     "name": "stdout",
     "output_type": "stream",
     "text": [
      "+---------+---+\n",
      "|       _1| _2|\n",
      "+---------+---+\n",
      "|  Finance| 10|\n",
      "|Marketing| 20|\n",
      "|    Sales| 30|\n",
      "|       IT| 40|\n",
      "+---------+---+\n",
      "\n"
     ]
    }
   ],
   "source": [
    "dept_df.show()"
   ]
  },
  {
   "cell_type": "markdown",
   "id": "d60f99fe",
   "metadata": {},
   "source": [
    "## with column_name"
   ]
  },
  {
   "cell_type": "code",
   "execution_count": 7,
   "id": "72a34f20",
   "metadata": {},
   "outputs": [],
   "source": [
    "columns=['Dept_Name','Headcount']\n",
    "\n",
    "dep_df=dept_rdd.toDF(columns)"
   ]
  },
  {
   "cell_type": "code",
   "execution_count": 8,
   "id": "17f8126c",
   "metadata": {},
   "outputs": [
    {
     "name": "stdout",
     "output_type": "stream",
     "text": [
      "+---------+---------+\n",
      "|Dept_Name|Headcount|\n",
      "+---------+---------+\n",
      "|  Finance|       10|\n",
      "|Marketing|       20|\n",
      "|    Sales|       30|\n",
      "|       IT|       40|\n",
      "+---------+---------+\n",
      "\n"
     ]
    }
   ],
   "source": [
    "dep_df.show()"
   ]
  },
  {
   "cell_type": "markdown",
   "id": "21916a6c",
   "metadata": {},
   "source": [
    "## createDataFrame with iterable as input"
   ]
  },
  {
   "cell_type": "code",
   "execution_count": 9,
   "id": "35525564",
   "metadata": {},
   "outputs": [
    {
     "name": "stdout",
     "output_type": "stream",
     "text": [
      "+---------+---------+\n",
      "|Dept_Name|Headcount|\n",
      "+---------+---------+\n",
      "|  Finance|       10|\n",
      "|Marketing|       20|\n",
      "|    Sales|       30|\n",
      "|       IT|       40|\n",
      "+---------+---------+\n",
      "\n"
     ]
    }
   ],
   "source": [
    "spark.createDataFrame(dept,columns).show()"
   ]
  },
  {
   "cell_type": "markdown",
   "id": "d7ac7208",
   "metadata": {},
   "source": [
    "## createDataFrame with RDD as input"
   ]
  },
  {
   "cell_type": "code",
   "execution_count": 10,
   "id": "730b9f42",
   "metadata": {},
   "outputs": [
    {
     "name": "stdout",
     "output_type": "stream",
     "text": [
      "+---------+---------+\n",
      "|Dept_Name|Headcount|\n",
      "+---------+---------+\n",
      "|  Finance|       10|\n",
      "|Marketing|       20|\n",
      "|    Sales|       30|\n",
      "|       IT|       40|\n",
      "+---------+---------+\n",
      "\n"
     ]
    }
   ],
   "source": [
    "spark.createDataFrame(dept_rdd,columns).show()"
   ]
  },
  {
   "cell_type": "code",
   "execution_count": 11,
   "id": "fca0e43d",
   "metadata": {},
   "outputs": [
    {
     "name": "stdout",
     "output_type": "stream",
     "text": [
      "+---------+---+\n",
      "|       _1| _2|\n",
      "+---------+---+\n",
      "|  Finance| 10|\n",
      "|Marketing| 20|\n",
      "|    Sales| 30|\n",
      "|       IT| 40|\n",
      "+---------+---+\n",
      "\n"
     ]
    }
   ],
   "source": [
    "spark.createDataFrame(dept_rdd).show()"
   ]
  },
  {
   "cell_type": "code",
   "execution_count": null,
   "id": "2ffc9089",
   "metadata": {},
   "outputs": [],
   "source": []
  }
 ],
 "metadata": {
  "kernelspec": {
   "display_name": "Python 3 (ipykernel)",
   "language": "python",
   "name": "python3"
  },
  "language_info": {
   "codemirror_mode": {
    "name": "ipython",
    "version": 3
   },
   "file_extension": ".py",
   "mimetype": "text/x-python",
   "name": "python",
   "nbconvert_exporter": "python",
   "pygments_lexer": "ipython3",
   "version": "3.9.7"
  }
 },
 "nbformat": 4,
 "nbformat_minor": 5
}
