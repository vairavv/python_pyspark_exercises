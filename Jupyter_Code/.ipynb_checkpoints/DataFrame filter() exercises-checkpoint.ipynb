{
 "cells": [
  {
   "cell_type": "code",
   "execution_count": 27,
   "id": "6c1cf7d0",
   "metadata": {},
   "outputs": [],
   "source": [
    "from pyspark.sql import SparkSession\n",
    "\n",
    "from pyspark.sql.functions import col\n",
    "\n",
    "spark = SparkSession.builder.appName(\"YourSparkApplication\").master(\"local[*]\").getOrCreate()"
   ]
  },
  {
   "cell_type": "code",
   "execution_count": 2,
   "id": "b49675ca",
   "metadata": {},
   "outputs": [],
   "source": [
    "data = [('James','','Smith','1991-04-01','M',3000),\n",
    "  ('Michael','Rose','','2000-05-19','M',4000),\n",
    "  ('Robert','','Williams','1978-09-05','M',4000),\n",
    "  ('Maria','Anne','Jones','1967-12-01','F',4000),\n",
    "  ('Jen','Mary','Brown','1980-02-17','F',-1)\n",
    "]"
   ]
  },
  {
   "cell_type": "code",
   "execution_count": 3,
   "id": "e43e675b",
   "metadata": {},
   "outputs": [],
   "source": [
    "columns = [\"firstname\",\"middlename\",\"lastname\",\"dob\",\"gender\",\"salary\"]"
   ]
  },
  {
   "cell_type": "code",
   "execution_count": 4,
   "id": "5474001a",
   "metadata": {},
   "outputs": [],
   "source": [
    "df=spark.createDataFrame(data,columns)"
   ]
  },
  {
   "cell_type": "code",
   "execution_count": 5,
   "id": "f6142094",
   "metadata": {},
   "outputs": [
    {
     "data": {
      "text/plain": [
       "[Row(firstname='James', middlename='', lastname='Smith', dob='1991-04-01', gender='M', salary=3000),\n",
       " Row(firstname='Michael', middlename='Rose', lastname='', dob='2000-05-19', gender='M', salary=4000),\n",
       " Row(firstname='Robert', middlename='', lastname='Williams', dob='1978-09-05', gender='M', salary=4000),\n",
       " Row(firstname='Maria', middlename='Anne', lastname='Jones', dob='1967-12-01', gender='F', salary=4000),\n",
       " Row(firstname='Jen', middlename='Mary', lastname='Brown', dob='1980-02-17', gender='F', salary=-1)]"
      ]
     },
     "execution_count": 5,
     "metadata": {},
     "output_type": "execute_result"
    }
   ],
   "source": [
    "df.collect()"
   ]
  },
  {
   "cell_type": "code",
   "execution_count": 6,
   "id": "8265d593",
   "metadata": {},
   "outputs": [
    {
     "name": "stdout",
     "output_type": "stream",
     "text": [
      "root\n",
      " |-- firstname: string (nullable = true)\n",
      " |-- middlename: string (nullable = true)\n",
      " |-- lastname: string (nullable = true)\n",
      " |-- dob: string (nullable = true)\n",
      " |-- gender: string (nullable = true)\n",
      " |-- salary: long (nullable = true)\n",
      "\n"
     ]
    }
   ],
   "source": [
    "df.printSchema()"
   ]
  },
  {
   "cell_type": "code",
   "execution_count": 7,
   "id": "21498425",
   "metadata": {},
   "outputs": [
    {
     "data": {
      "text/plain": [
       "StructType([StructField('firstname', StringType(), True), StructField('middlename', StringType(), True), StructField('lastname', StringType(), True), StructField('dob', StringType(), True), StructField('gender', StringType(), True), StructField('salary', LongType(), True)])"
      ]
     },
     "execution_count": 7,
     "metadata": {},
     "output_type": "execute_result"
    }
   ],
   "source": [
    "df.schema"
   ]
  },
  {
   "cell_type": "markdown",
   "id": "d58a7539",
   "metadata": {},
   "source": [
    "## filter() function samples"
   ]
  },
  {
   "cell_type": "code",
   "execution_count": 8,
   "id": "7b4e8e3c",
   "metadata": {},
   "outputs": [
    {
     "name": "stdout",
     "output_type": "stream",
     "text": [
      "+---------+----------+--------+----------+------+------+\n",
      "|firstname|middlename|lastname|       dob|gender|salary|\n",
      "+---------+----------+--------+----------+------+------+\n",
      "|  Michael|      Rose|        |2000-05-19|     M|  4000|\n",
      "|   Robert|          |Williams|1978-09-05|     M|  4000|\n",
      "|    Maria|      Anne|   Jones|1967-12-01|     F|  4000|\n",
      "+---------+----------+--------+----------+------+------+\n",
      "\n"
     ]
    }
   ],
   "source": [
    "df.filter(df.salary >3000).show()"
   ]
  },
  {
   "cell_type": "code",
   "execution_count": 9,
   "id": "6260dda7",
   "metadata": {},
   "outputs": [
    {
     "name": "stdout",
     "output_type": "stream",
     "text": [
      "+---------+----------+--------+---+------+------+\n",
      "|firstname|middlename|lastname|dob|gender|salary|\n",
      "+---------+----------+--------+---+------+------+\n",
      "+---------+----------+--------+---+------+------+\n",
      "\n"
     ]
    }
   ],
   "source": [
    "df.filter(df.firstname.like(\"M%\")).filter(df.salary==3000).show()"
   ]
  },
  {
   "cell_type": "markdown",
   "id": "f9876a03",
   "metadata": {},
   "source": [
    "## filter() by SQL expression in a string"
   ]
  },
  {
   "cell_type": "code",
   "execution_count": 10,
   "id": "ec55db6a",
   "metadata": {},
   "outputs": [
    {
     "name": "stdout",
     "output_type": "stream",
     "text": [
      "+---------+----------+--------+---+------+------+\n",
      "|firstname|middlename|lastname|dob|gender|salary|\n",
      "+---------+----------+--------+---+------+------+\n",
      "+---------+----------+--------+---+------+------+\n",
      "\n"
     ]
    }
   ],
   "source": [
    "df.filter(\"firstname like 'M%' and salary=3000\").show()"
   ]
  },
  {
   "cell_type": "code",
   "execution_count": 11,
   "id": "d4a4bcfa",
   "metadata": {},
   "outputs": [
    {
     "name": "stdout",
     "output_type": "stream",
     "text": [
      "+---------+----------+--------+----------+------+------+\n",
      "|firstname|middlename|lastname|       dob|gender|salary|\n",
      "+---------+----------+--------+----------+------+------+\n",
      "|    James|          |   Smith|1991-04-01|     M|  3000|\n",
      "|  Michael|      Rose|        |2000-05-19|     M|  4000|\n",
      "|   Robert|          |Williams|1978-09-05|     M|  4000|\n",
      "|    Maria|      Anne|   Jones|1967-12-01|     F|  4000|\n",
      "|      Jen|      Mary|   Brown|1980-02-17|     F|    -1|\n",
      "+---------+----------+--------+----------+------+------+\n",
      "\n"
     ]
    }
   ],
   "source": [
    "df.show()"
   ]
  },
  {
   "cell_type": "markdown",
   "id": "d5a58e79",
   "metadata": {},
   "source": [
    "### please use '&' for 'and', '|' for 'or', '~' for 'not' when building DataFrame boolean expressions."
   ]
  },
  {
   "cell_type": "code",
   "execution_count": 46,
   "id": "392418c7",
   "metadata": {},
   "outputs": [
    {
     "name": "stdout",
     "output_type": "stream",
     "text": [
      "+---------+----------+--------+----------+------+------+\n",
      "|firstname|middlename|lastname|       dob|gender|salary|\n",
      "+---------+----------+--------+----------+------+------+\n",
      "|    Maria|      Anne|   Jones|1967-12-01|     F|  4000|\n",
      "+---------+----------+--------+----------+------+------+\n",
      "\n"
     ]
    }
   ],
   "source": [
    "df.where((col('salary')>3000) & (col('gender')=='F')).show()"
   ]
  },
  {
   "cell_type": "markdown",
   "id": "b5c54eb4",
   "metadata": {},
   "source": [
    "### isin() - similar to sql 'in' clause"
   ]
  },
  {
   "cell_type": "code",
   "execution_count": 36,
   "id": "d3798e64",
   "metadata": {},
   "outputs": [],
   "source": [
    "name_filter=['James','Jen']"
   ]
  },
  {
   "cell_type": "code",
   "execution_count": 37,
   "id": "9523c25d",
   "metadata": {},
   "outputs": [
    {
     "name": "stdout",
     "output_type": "stream",
     "text": [
      "+---------+----------+--------+----------+------+------+\n",
      "|firstname|middlename|lastname|       dob|gender|salary|\n",
      "+---------+----------+--------+----------+------+------+\n",
      "|    James|          |   Smith|1991-04-01|     M|  3000|\n",
      "|      Jen|      Mary|   Brown|1980-02-17|     F|    -1|\n",
      "+---------+----------+--------+----------+------+------+\n",
      "\n"
     ]
    }
   ],
   "source": [
    "df.where(col('firstname').isin(name_filter)).show()"
   ]
  },
  {
   "cell_type": "code",
   "execution_count": 39,
   "id": "3a501b14",
   "metadata": {},
   "outputs": [],
   "source": [
    "exclude_filter =''"
   ]
  },
  {
   "cell_type": "code",
   "execution_count": 43,
   "id": "5db2d98b",
   "metadata": {},
   "outputs": [
    {
     "name": "stdout",
     "output_type": "stream",
     "text": [
      "== Physical Plan ==\n",
      "*(1) Filter (isnotnull(middlename#1) AND NOT (middlename#1 = ))\n",
      "+- *(1) Scan ExistingRDD[firstname#0,middlename#1,lastname#2,dob#3,gender#4,salary#5L]\n",
      "\n",
      "\n"
     ]
    }
   ],
   "source": [
    "df.where(~col('middlename').isin(exclude_filter)).explain()"
   ]
  },
  {
   "cell_type": "code",
   "execution_count": null,
   "id": "88df0a76",
   "metadata": {},
   "outputs": [],
   "source": []
  }
 ],
 "metadata": {
  "kernelspec": {
   "display_name": "Python 3 (ipykernel)",
   "language": "python",
   "name": "python3"
  },
  "language_info": {
   "codemirror_mode": {
    "name": "ipython",
    "version": 3
   },
   "file_extension": ".py",
   "mimetype": "text/x-python",
   "name": "python",
   "nbconvert_exporter": "python",
   "pygments_lexer": "ipython3",
   "version": "3.9.7"
  }
 },
 "nbformat": 4,
 "nbformat_minor": 5
}
