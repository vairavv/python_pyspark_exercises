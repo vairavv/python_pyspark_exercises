{
 "cells": [
  {
   "cell_type": "code",
   "execution_count": 1,
   "id": "9f8f4ddd",
   "metadata": {},
   "outputs": [],
   "source": [
    "from pyspark.sql import SparkSession\n",
    "\n",
    "from pyspark.sql.functions import col\n",
    "\n",
    "spark = SparkSession.builder.appName(\"YourSparkApplication\").master(\"local[*]\").getOrCreate()"
   ]
  },
  {
   "cell_type": "markdown",
   "id": "1e4d699d",
   "metadata": {},
   "source": [
    "### fakefriends.csv doesn't contain header. defined Header using 'schema' parameter."
   ]
  },
  {
   "cell_type": "code",
   "execution_count": 2,
   "id": "2a872fcc",
   "metadata": {},
   "outputs": [],
   "source": [
    "df=spark.read.csv(r\"C:\\Users\\Muthu\\Music\\fakefriends.csv\",schema='id integer,name string ,age integer ,numfriends integer')"
   ]
  },
  {
   "cell_type": "code",
   "execution_count": 3,
   "id": "dc782b61",
   "metadata": {},
   "outputs": [
    {
     "name": "stdout",
     "output_type": "stream",
     "text": [
      "+---+--------+---+----------+\n",
      "| id|    name|age|numfriends|\n",
      "+---+--------+---+----------+\n",
      "|  0|    Will| 33|       385|\n",
      "|  1|Jean-Luc| 26|         2|\n",
      "|  2|    Hugh| 55|       221|\n",
      "|  3|  Deanna| 40|       465|\n",
      "|  4|   Quark| 68|        21|\n",
      "|  5|  Weyoun| 59|       318|\n",
      "|  6|  Gowron| 37|       220|\n",
      "|  7|    Will| 54|       307|\n",
      "|  8|  Jadzia| 38|       380|\n",
      "|  9|    Hugh| 27|       181|\n",
      "| 10|     Odo| 53|       191|\n",
      "| 11|     Ben| 57|       372|\n",
      "| 12|   Keiko| 54|       253|\n",
      "| 13|Jean-Luc| 56|       444|\n",
      "| 14|    Hugh| 43|        49|\n",
      "| 15|     Rom| 36|        49|\n",
      "| 16|  Weyoun| 22|       323|\n",
      "| 17|     Odo| 35|        13|\n",
      "| 18|Jean-Luc| 45|       455|\n",
      "| 19|  Geordi| 60|       246|\n",
      "+---+--------+---+----------+\n",
      "only showing top 20 rows\n",
      "\n"
     ]
    }
   ],
   "source": [
    "df.show()"
   ]
  },
  {
   "cell_type": "code",
   "execution_count": 4,
   "id": "f812b29c",
   "metadata": {},
   "outputs": [
    {
     "name": "stdout",
     "output_type": "stream",
     "text": [
      "root\n",
      " |-- id: integer (nullable = true)\n",
      " |-- name: string (nullable = true)\n",
      " |-- age: integer (nullable = true)\n",
      " |-- numfriends: integer (nullable = true)\n",
      "\n"
     ]
    }
   ],
   "source": [
    "df.printSchema()"
   ]
  },
  {
   "cell_type": "code",
   "execution_count": 5,
   "id": "c74d99b7",
   "metadata": {},
   "outputs": [],
   "source": [
    "df.createOrReplaceTempView('friends')"
   ]
  },
  {
   "cell_type": "code",
   "execution_count": 10,
   "id": "5aac91e8",
   "metadata": {},
   "outputs": [],
   "source": [
    "sample_df = spark.sql('select * from friends where id between 0 and 15')"
   ]
  },
  {
   "cell_type": "code",
   "execution_count": 11,
   "id": "ba9cdd9e",
   "metadata": {},
   "outputs": [
    {
     "data": {
      "text/plain": [
       "pyspark.sql.dataframe.DataFrame"
      ]
     },
     "execution_count": 11,
     "metadata": {},
     "output_type": "execute_result"
    }
   ],
   "source": [
    "type(sample_df)"
   ]
  },
  {
   "cell_type": "code",
   "execution_count": 12,
   "id": "875f2a37",
   "metadata": {},
   "outputs": [
    {
     "name": "stdout",
     "output_type": "stream",
     "text": [
      "+---+--------+---+----------+\n",
      "| id|    name|age|numfriends|\n",
      "+---+--------+---+----------+\n",
      "|  0|    Will| 33|       385|\n",
      "|  1|Jean-Luc| 26|         2|\n",
      "|  2|    Hugh| 55|       221|\n",
      "|  3|  Deanna| 40|       465|\n",
      "|  4|   Quark| 68|        21|\n",
      "|  5|  Weyoun| 59|       318|\n",
      "|  6|  Gowron| 37|       220|\n",
      "|  7|    Will| 54|       307|\n",
      "|  8|  Jadzia| 38|       380|\n",
      "|  9|    Hugh| 27|       181|\n",
      "| 10|     Odo| 53|       191|\n",
      "| 11|     Ben| 57|       372|\n",
      "| 12|   Keiko| 54|       253|\n",
      "| 13|Jean-Luc| 56|       444|\n",
      "| 14|    Hugh| 43|        49|\n",
      "| 15|     Rom| 36|        49|\n",
      "+---+--------+---+----------+\n",
      "\n"
     ]
    }
   ],
   "source": [
    "sample_df.show()"
   ]
  },
  {
   "cell_type": "code",
   "execution_count": null,
   "id": "92431568",
   "metadata": {},
   "outputs": [],
   "source": []
  }
 ],
 "metadata": {
  "kernelspec": {
   "display_name": "Python 3 (ipykernel)",
   "language": "python",
   "name": "python3"
  },
  "language_info": {
   "codemirror_mode": {
    "name": "ipython",
    "version": 3
   },
   "file_extension": ".py",
   "mimetype": "text/x-python",
   "name": "python",
   "nbconvert_exporter": "python",
   "pygments_lexer": "ipython3",
   "version": "3.9.7"
  }
 },
 "nbformat": 4,
 "nbformat_minor": 5
}
