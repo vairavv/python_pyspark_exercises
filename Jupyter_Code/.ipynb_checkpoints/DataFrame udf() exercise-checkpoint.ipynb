{
 "cells": [
  {
   "cell_type": "code",
   "execution_count": 1,
   "id": "5af01c0f",
   "metadata": {},
   "outputs": [],
   "source": [
    "from pyspark.sql import SparkSession\n",
    "\n",
    "from pyspark.sql.functions import col,udf\n",
    "\n",
    "spark = SparkSession.builder.appName(\"YourSparkApplication\").master(\"local[*]\").getOrCreate()"
   ]
  },
  {
   "cell_type": "code",
   "execution_count": 2,
   "id": "88f85b02",
   "metadata": {},
   "outputs": [],
   "source": [
    "columns = ['Seqno','Name']\n",
    "\n",
    "data = [('1', 'john jones'),\n",
    "    ('2', 'tracey smith'),\n",
    "    ('3', 'amy sanders')]"
   ]
  },
  {
   "cell_type": "code",
   "execution_count": 3,
   "id": "7070f094",
   "metadata": {},
   "outputs": [],
   "source": [
    "df = spark.createDataFrame(data,columns)"
   ]
  },
  {
   "cell_type": "code",
   "execution_count": 4,
   "id": "46aac1e2",
   "metadata": {},
   "outputs": [
    {
     "name": "stdout",
     "output_type": "stream",
     "text": [
      "+-----+------------+\n",
      "|Seqno|        Name|\n",
      "+-----+------------+\n",
      "|    1|  john jones|\n",
      "|    2|tracey smith|\n",
      "|    3| amy sanders|\n",
      "+-----+------------+\n",
      "\n"
     ]
    }
   ],
   "source": [
    "df.show()"
   ]
  },
  {
   "cell_type": "code",
   "execution_count": 5,
   "id": "a5390bcd",
   "metadata": {},
   "outputs": [
    {
     "data": {
      "text/plain": [
       "['john', 'jones']"
      ]
     },
     "execution_count": 5,
     "metadata": {},
     "output_type": "execute_result"
    }
   ],
   "source": [
    "x ='john jones'\n",
    "\n",
    "y=x.split()\n",
    "\n",
    "y"
   ]
  },
  {
   "cell_type": "code",
   "execution_count": 6,
   "id": "7990b4e9",
   "metadata": {},
   "outputs": [
    {
     "name": "stdout",
     "output_type": "stream",
     "text": [
      "John Jones \n"
     ]
    }
   ],
   "source": [
    "def convertCase(str):\n",
    "    arr=str.split()\n",
    "    new_str=''\n",
    "    for x in arr:\n",
    "        new_str+=x[0].upper()+x[1:len(x)]+\" \"\n",
    "    return new_str\n",
    "\n",
    "fun = convertCase(x)\n",
    "\n",
    "print(fun)"
   ]
  },
  {
   "cell_type": "code",
   "execution_count": 7,
   "id": "c00ba590",
   "metadata": {},
   "outputs": [],
   "source": [
    "convertUDF =udf(lambda x:convertCase(x))"
   ]
  },
  {
   "cell_type": "code",
   "execution_count": 8,
   "id": "fdf921f5",
   "metadata": {},
   "outputs": [
    {
     "name": "stdout",
     "output_type": "stream",
     "text": [
      "+-----+-------------+\n",
      "|Seqno| convert_case|\n",
      "+-----+-------------+\n",
      "|    1|  John Jones |\n",
      "|    2|Tracey Smith |\n",
      "|    3| Amy Sanders |\n",
      "+-----+-------------+\n",
      "\n"
     ]
    }
   ],
   "source": [
    "df.select(df.Seqno, convertUDF(df.Name).alias('convert_case')).show()"
   ]
  },
  {
   "cell_type": "code",
   "execution_count": 9,
   "id": "0d3f1abe",
   "metadata": {},
   "outputs": [
    {
     "data": {
      "text/plain": [
       "function"
      ]
     },
     "execution_count": 9,
     "metadata": {},
     "output_type": "execute_result"
    }
   ],
   "source": [
    "type(convertUDF)"
   ]
  },
  {
   "cell_type": "code",
   "execution_count": 11,
   "id": "b9510050",
   "metadata": {},
   "outputs": [
    {
     "name": "stdout",
     "output_type": "stream",
     "text": [
      "+-----+------------+-------------+\n",
      "|Seqno|        Name| convert_case|\n",
      "+-----+------------+-------------+\n",
      "|    1|  john jones|  John Jones |\n",
      "|    2|tracey smith|Tracey Smith |\n",
      "|    3| amy sanders| Amy Sanders |\n",
      "+-----+------------+-------------+\n",
      "\n"
     ]
    }
   ],
   "source": [
    "df.withColumn('convert_case',convertUDF(df.Name)).show()"
   ]
  },
  {
   "cell_type": "code",
   "execution_count": null,
   "id": "2ff3cf6a",
   "metadata": {},
   "outputs": [],
   "source": []
  }
 ],
 "metadata": {
  "kernelspec": {
   "display_name": "Python 3 (ipykernel)",
   "language": "python",
   "name": "python3"
  },
  "language_info": {
   "codemirror_mode": {
    "name": "ipython",
    "version": 3
   },
   "file_extension": ".py",
   "mimetype": "text/x-python",
   "name": "python",
   "nbconvert_exporter": "python",
   "pygments_lexer": "ipython3",
   "version": "3.9.7"
  }
 },
 "nbformat": 4,
 "nbformat_minor": 5
}
