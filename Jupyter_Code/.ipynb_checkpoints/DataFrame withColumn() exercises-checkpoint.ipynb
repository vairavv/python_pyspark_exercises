{
 "cells": [
  {
   "cell_type": "code",
   "execution_count": 10,
   "id": "a34405de",
   "metadata": {},
   "outputs": [],
   "source": [
    "from pyspark.sql import SparkSession\n",
    "\n",
    "from pyspark.sql.functions import *\n",
    "\n",
    "spark = SparkSession.builder.appName(\"YourSparkApplication\").master(\"local[*]\").getOrCreate()"
   ]
  },
  {
   "cell_type": "code",
   "execution_count": 2,
   "id": "b25c0fe9",
   "metadata": {},
   "outputs": [],
   "source": [
    "data = [('James','','Smith','1991-04-01','M',3000),\n",
    "  ('Michael','Rose','','2000-05-19','M',4000),\n",
    "  ('Robert','','Williams','1978-09-05','M',4000),\n",
    "  ('Maria','Anne','Jones','1967-12-01','F',4000),\n",
    "  ('Jen','Mary','Brown','1980-02-17','F',-1)\n",
    "]"
   ]
  },
  {
   "cell_type": "code",
   "execution_count": 3,
   "id": "ad2744fb",
   "metadata": {},
   "outputs": [],
   "source": [
    "columns = [\"firstname\",\"middlename\",\"lastname\",\"dob\",\"gender\",\"salary\"]"
   ]
  },
  {
   "cell_type": "code",
   "execution_count": 4,
   "id": "48129fe5",
   "metadata": {},
   "outputs": [],
   "source": [
    "df=spark.createDataFrame(data,columns)"
   ]
  },
  {
   "cell_type": "code",
   "execution_count": 5,
   "id": "5d899af5",
   "metadata": {},
   "outputs": [
    {
     "name": "stdout",
     "output_type": "stream",
     "text": [
      "+---------+----------+--------+----------+------+------+\n",
      "|firstname|middlename|lastname|       dob|gender|salary|\n",
      "+---------+----------+--------+----------+------+------+\n",
      "|    James|          |   Smith|1991-04-01|     M|  3000|\n",
      "|  Michael|      Rose|        |2000-05-19|     M|  4000|\n",
      "|   Robert|          |Williams|1978-09-05|     M|  4000|\n",
      "|    Maria|      Anne|   Jones|1967-12-01|     F|  4000|\n",
      "|      Jen|      Mary|   Brown|1980-02-17|     F|    -1|\n",
      "+---------+----------+--------+----------+------+------+\n",
      "\n"
     ]
    }
   ],
   "source": [
    "df.show()"
   ]
  },
  {
   "cell_type": "markdown",
   "id": "98237bca",
   "metadata": {},
   "source": [
    "## new column creation "
   ]
  },
  {
   "cell_type": "code",
   "execution_count": 13,
   "id": "306a69e2",
   "metadata": {},
   "outputs": [],
   "source": [
    "df2=df.withColumn('fullname',concat(df.firstname,df.middlename,df.lastname))"
   ]
  },
  {
   "cell_type": "code",
   "execution_count": 16,
   "id": "c64149f1",
   "metadata": {},
   "outputs": [
    {
     "name": "stdout",
     "output_type": "stream",
     "text": [
      "+---------+----------+--------+----------+------+------+--------------+----------+\n",
      "|firstname|middlename|lastname|       dob|gender|salary|      fullname|string_len|\n",
      "+---------+----------+--------+----------+------+------+--------------+----------+\n",
      "|    James|          |   Smith|1991-04-01|     M|  3000|    JamesSmith|        10|\n",
      "|  Michael|      Rose|        |2000-05-19|     M|  4000|   MichaelRose|        11|\n",
      "|   Robert|          |Williams|1978-09-05|     M|  4000|RobertWilliams|        14|\n",
      "|    Maria|      Anne|   Jones|1967-12-01|     F|  4000|MariaAnneJones|        14|\n",
      "|      Jen|      Mary|   Brown|1980-02-17|     F|    -1|  JenMaryBrown|        12|\n",
      "+---------+----------+--------+----------+------+------+--------------+----------+\n",
      "\n"
     ]
    }
   ],
   "source": [
    "df2.withColumn('string_len',length('fullname')).show()"
   ]
  },
  {
   "cell_type": "markdown",
   "id": "7d3152e2",
   "metadata": {},
   "source": [
    "## manipulating existing columns"
   ]
  },
  {
   "cell_type": "code",
   "execution_count": 17,
   "id": "c51c970b",
   "metadata": {},
   "outputs": [
    {
     "name": "stdout",
     "output_type": "stream",
     "text": [
      "+---------+----------+--------+----------+------+------+--------------+\n",
      "|firstname|middlename|lastname|       dob|gender|salary|      fullname|\n",
      "+---------+----------+--------+----------+------+------+--------------+\n",
      "|    James|          |   Smith|1991-04-01|     M|  3000|    JamesSmith|\n",
      "|  Michael|      Rose|        |2000-05-19|     M|  4000|   MichaelRose|\n",
      "|   Robert|          |Williams|1978-09-05|     M|  4000|RobertWilliams|\n",
      "|    Maria|      Anne|   Jones|1967-12-01|     F|  4000|MariaAnneJones|\n",
      "|      Jen|      Mary|   Brown|1980-02-17|     F|    -1|  JenMaryBrown|\n",
      "+---------+----------+--------+----------+------+------+--------------+\n",
      "\n"
     ]
    }
   ],
   "source": [
    "df2.withColumn('middlename',trim('middlename')).show()"
   ]
  },
  {
   "cell_type": "markdown",
   "id": "2beee13b",
   "metadata": {},
   "source": [
    "# observation - first parameter should be a string"
   ]
  },
  {
   "cell_type": "code",
   "execution_count": 35,
   "id": "87818bcf",
   "metadata": {},
   "outputs": [],
   "source": [
    "df2=df2.withColumn('salary',df2.salary.cast(\"integer\"))"
   ]
  },
  {
   "cell_type": "code",
   "execution_count": 36,
   "id": "b7d78098",
   "metadata": {},
   "outputs": [
    {
     "name": "stdout",
     "output_type": "stream",
     "text": [
      "root\n",
      " |-- firstname: string (nullable = true)\n",
      " |-- middlename: string (nullable = true)\n",
      " |-- lastname: string (nullable = true)\n",
      " |-- dob: string (nullable = true)\n",
      " |-- gender: string (nullable = true)\n",
      " |-- salary: integer (nullable = true)\n",
      " |-- fullname: string (nullable = true)\n",
      "\n"
     ]
    }
   ],
   "source": [
    "df2.printSchema()"
   ]
  },
  {
   "cell_type": "code",
   "execution_count": 37,
   "id": "03e52fb8",
   "metadata": {},
   "outputs": [
    {
     "name": "stdout",
     "output_type": "stream",
     "text": [
      "+---------+----------+--------+-------------+------+------+--------------+\n",
      "|firstname|middlename|lastname|date_of_birth|gender|salary|      fullname|\n",
      "+---------+----------+--------+-------------+------+------+--------------+\n",
      "|    James|          |   Smith|   1991-04-01|     M|  3000|    JamesSmith|\n",
      "|  Michael|      Rose|        |   2000-05-19|     M|  4000|   MichaelRose|\n",
      "|   Robert|          |Williams|   1978-09-05|     M|  4000|RobertWilliams|\n",
      "|    Maria|      Anne|   Jones|   1967-12-01|     F|  4000|MariaAnneJones|\n",
      "|      Jen|      Mary|   Brown|   1980-02-17|     F|    -1|  JenMaryBrown|\n",
      "+---------+----------+--------+-------------+------+------+--------------+\n",
      "\n"
     ]
    }
   ],
   "source": [
    "df2 = df2.withColumnRenamed('dob','date_of_birth')\n",
    "\n",
    "df2.show()"
   ]
  },
  {
   "cell_type": "code",
   "execution_count": null,
   "id": "cfb69776",
   "metadata": {},
   "outputs": [],
   "source": []
  }
 ],
 "metadata": {
  "kernelspec": {
   "display_name": "Python 3 (ipykernel)",
   "language": "python",
   "name": "python3"
  },
  "language_info": {
   "codemirror_mode": {
    "name": "ipython",
    "version": 3
   },
   "file_extension": ".py",
   "mimetype": "text/x-python",
   "name": "python",
   "nbconvert_exporter": "python",
   "pygments_lexer": "ipython3",
   "version": "3.9.7"
  }
 },
 "nbformat": 4,
 "nbformat_minor": 5
}
