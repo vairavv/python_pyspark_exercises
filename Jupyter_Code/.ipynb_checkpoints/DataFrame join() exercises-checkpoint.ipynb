{
 "cells": [
  {
   "cell_type": "code",
   "execution_count": 14,
   "id": "cc87b637",
   "metadata": {},
   "outputs": [],
   "source": [
    "from pyspark.sql import SparkSession,Row\n",
    "\n",
    "from pyspark.sql.functions import col\n",
    "\n",
    "spark = SparkSession.builder.appName(\"YourSparkApplication\").master(\"local[*]\").getOrCreate()"
   ]
  },
  {
   "cell_type": "code",
   "execution_count": 3,
   "id": "c5b2b9ba",
   "metadata": {},
   "outputs": [],
   "source": [
    "emp = [(1,\"Smith\",-1,\"2018\",\"10\",\"M\",3000), \n",
    "    (2,\"Rose\",1,\"2010\",\"20\",\"M\",4000), \n",
    "    (3,\"Williams\",1,\"2010\",\"10\",\"M\",1000), \n",
    "    (4,\"Jones\",2,\"2005\",\"10\",\"F\",2000), \n",
    "    (5,\"Brown\",2,\"2010\",\"40\",\"\",-1), \n",
    "      (6,\"Brown\",2,\"2010\",\"50\",\"\",-1) \n",
    "  ]\n",
    "\n",
    "empColumns = [\"emp_id\",\"name\",\"superior_emp_id\",\"year_joined\", \n",
    "       \"emp_dept_id\",\"gender\",\"salary\"]"
   ]
  },
  {
   "cell_type": "code",
   "execution_count": 4,
   "id": "e23c8ab0",
   "metadata": {},
   "outputs": [],
   "source": [
    "emp_df = spark.createDataFrame(emp,empColumns)"
   ]
  },
  {
   "cell_type": "code",
   "execution_count": 5,
   "id": "650c6f0a",
   "metadata": {},
   "outputs": [],
   "source": [
    "dept = [(\"Finance\",10), \n",
    "    (\"Marketing\",20), \n",
    "    (\"Sales\",30), \n",
    "    (\"IT\",40) \n",
    "  ]\n",
    "  \n",
    "  \n",
    "deptColumns = [\"dept_name\",\"dept_id\"]"
   ]
  },
  {
   "cell_type": "code",
   "execution_count": 6,
   "id": "45c02575",
   "metadata": {},
   "outputs": [],
   "source": [
    "dep_df = spark.createDataFrame(dept,deptColumns)"
   ]
  },
  {
   "cell_type": "code",
   "execution_count": 7,
   "id": "b09ec439",
   "metadata": {},
   "outputs": [
    {
     "name": "stdout",
     "output_type": "stream",
     "text": [
      "+------+--------+---------------+-----------+-----------+------+------+\n",
      "|emp_id|    name|superior_emp_id|year_joined|emp_dept_id|gender|salary|\n",
      "+------+--------+---------------+-----------+-----------+------+------+\n",
      "|     1|   Smith|             -1|       2018|         10|     M|  3000|\n",
      "|     2|    Rose|              1|       2010|         20|     M|  4000|\n",
      "|     3|Williams|              1|       2010|         10|     M|  1000|\n",
      "|     4|   Jones|              2|       2005|         10|     F|  2000|\n",
      "|     5|   Brown|              2|       2010|         40|      |    -1|\n",
      "|     6|   Brown|              2|       2010|         50|      |    -1|\n",
      "+------+--------+---------------+-----------+-----------+------+------+\n",
      "\n"
     ]
    }
   ],
   "source": [
    "emp_df.show()"
   ]
  },
  {
   "cell_type": "code",
   "execution_count": 8,
   "id": "ae81f711",
   "metadata": {},
   "outputs": [
    {
     "name": "stdout",
     "output_type": "stream",
     "text": [
      "+---------+-------+\n",
      "|dept_name|dept_id|\n",
      "+---------+-------+\n",
      "|  Finance|     10|\n",
      "|Marketing|     20|\n",
      "|    Sales|     30|\n",
      "|       IT|     40|\n",
      "+---------+-------+\n",
      "\n"
     ]
    }
   ],
   "source": [
    "dep_df.show()"
   ]
  },
  {
   "cell_type": "code",
   "execution_count": 9,
   "id": "21a994ec",
   "metadata": {},
   "outputs": [
    {
     "name": "stdout",
     "output_type": "stream",
     "text": [
      "+------+--------+---------------+-----------+-----------+------+------+---------+-------+\n",
      "|emp_id|    name|superior_emp_id|year_joined|emp_dept_id|gender|salary|dept_name|dept_id|\n",
      "+------+--------+---------------+-----------+-----------+------+------+---------+-------+\n",
      "|     1|   Smith|             -1|       2018|         10|     M|  3000|  Finance|     10|\n",
      "|     3|Williams|              1|       2010|         10|     M|  1000|  Finance|     10|\n",
      "|     4|   Jones|              2|       2005|         10|     F|  2000|  Finance|     10|\n",
      "|     2|    Rose|              1|       2010|         20|     M|  4000|Marketing|     20|\n",
      "|     5|   Brown|              2|       2010|         40|      |    -1|       IT|     40|\n",
      "+------+--------+---------------+-----------+-----------+------+------+---------+-------+\n",
      "\n"
     ]
    }
   ],
   "source": [
    "emp_df.join(dep_df,emp_df.emp_dept_id==dep_df.dept_id,'inner').show()"
   ]
  },
  {
   "cell_type": "code",
   "execution_count": 10,
   "id": "1189723e",
   "metadata": {},
   "outputs": [],
   "source": [
    "emp_df =emp_df.withColumnRenamed('emp_dept_id','dept_id')"
   ]
  },
  {
   "cell_type": "code",
   "execution_count": 11,
   "id": "6160f3e2",
   "metadata": {},
   "outputs": [
    {
     "name": "stdout",
     "output_type": "stream",
     "text": [
      "+-------+------+--------+---------------+-----------+------+------+---------+\n",
      "|dept_id|emp_id|    name|superior_emp_id|year_joined|gender|salary|dept_name|\n",
      "+-------+------+--------+---------------+-----------+------+------+---------+\n",
      "|     10|     1|   Smith|             -1|       2018|     M|  3000|  Finance|\n",
      "|     10|     3|Williams|              1|       2010|     M|  1000|  Finance|\n",
      "|     10|     4|   Jones|              2|       2005|     F|  2000|  Finance|\n",
      "|     20|     2|    Rose|              1|       2010|     M|  4000|Marketing|\n",
      "|     40|     5|   Brown|              2|       2010|      |    -1|       IT|\n",
      "+-------+------+--------+---------------+-----------+------+------+---------+\n",
      "\n"
     ]
    }
   ],
   "source": [
    "emp_df.join(dep_df,'dept_id','inner').show()"
   ]
  },
  {
   "cell_type": "code",
   "execution_count": 12,
   "id": "54b8b3e1",
   "metadata": {
    "scrolled": true
   },
   "outputs": [
    {
     "name": "stdout",
     "output_type": "stream",
     "text": [
      "+---------+-------+\n",
      "|dept_name|dept_id|\n",
      "+---------+-------+\n",
      "|  Finance|     10|\n",
      "|Marketing|     20|\n",
      "|       IT|     40|\n",
      "+---------+-------+\n",
      "\n"
     ]
    }
   ],
   "source": [
    "dep_df.join(emp_df,dep_df.dept_id==emp_df.dept_id,'left_semi').show()"
   ]
  },
  {
   "cell_type": "code",
   "execution_count": 13,
   "id": "33a83bb2",
   "metadata": {},
   "outputs": [
    {
     "name": "stdout",
     "output_type": "stream",
     "text": [
      "+---------+-------+\n",
      "|dept_name|dept_id|\n",
      "+---------+-------+\n",
      "|    Sales|     30|\n",
      "+---------+-------+\n",
      "\n"
     ]
    }
   ],
   "source": [
    "dep_df.join(emp_df,dep_df.dept_id==emp_df.dept_id,'left_anti').show()"
   ]
  },
  {
   "cell_type": "code",
   "execution_count": 30,
   "id": "904bcfee",
   "metadata": {},
   "outputs": [],
   "source": [
    "df3=spark.createDataFrame((Row(Age=10,name='Alice'),Row(Age=5,name='Bob')))"
   ]
  },
  {
   "cell_type": "code",
   "execution_count": 31,
   "id": "65484011",
   "metadata": {},
   "outputs": [
    {
     "name": "stdout",
     "output_type": "stream",
     "text": [
      "+---+-----+\n",
      "|Age| name|\n",
      "+---+-----+\n",
      "| 10|Alice|\n",
      "|  5|  Bob|\n",
      "+---+-----+\n",
      "\n"
     ]
    }
   ],
   "source": [
    "df3.show()"
   ]
  },
  {
   "cell_type": "code",
   "execution_count": 19,
   "id": "9b444c7c",
   "metadata": {},
   "outputs": [],
   "source": [
    "df4 = spark.createDataFrame([\n",
    "    Row(age=10, height=80, name=\"Alice\"),\n",
    "     Row(age=5, height=None, name=\"Bob\"),\n",
    "     Row(age=None, height=None, name=\"Tom\"),\n",
    "     Row(age=None, height=None, name=None),\n",
    " ])"
   ]
  },
  {
   "cell_type": "code",
   "execution_count": 20,
   "id": "f717c8d8",
   "metadata": {},
   "outputs": [
    {
     "name": "stdout",
     "output_type": "stream",
     "text": [
      "+----+------+-----+\n",
      "| age|height| name|\n",
      "+----+------+-----+\n",
      "|  10|    80|Alice|\n",
      "|   5|  null|  Bob|\n",
      "|null|  null|  Tom|\n",
      "|null|  null| null|\n",
      "+----+------+-----+\n",
      "\n"
     ]
    }
   ],
   "source": [
    "df4.show()"
   ]
  },
  {
   "cell_type": "code",
   "execution_count": 34,
   "id": "5afeed21",
   "metadata": {},
   "outputs": [
    {
     "name": "stdout",
     "output_type": "stream",
     "text": [
      "+---+----+\n",
      "|Age|name|\n",
      "+---+----+\n",
      "+---+----+\n",
      "\n"
     ]
    }
   ],
   "source": [
    "df3.join(df4,['age','name'],'leftanti').show()"
   ]
  },
  {
   "cell_type": "markdown",
   "id": "89d4fab2",
   "metadata": {},
   "source": [
    "###  observation - rows  in dataframes are case-sensitive."
   ]
  },
  {
   "cell_type": "code",
   "execution_count": null,
   "id": "18c70f75",
   "metadata": {},
   "outputs": [],
   "source": []
  }
 ],
 "metadata": {
  "kernelspec": {
   "display_name": "Python 3 (ipykernel)",
   "language": "python",
   "name": "python3"
  },
  "language_info": {
   "codemirror_mode": {
    "name": "ipython",
    "version": 3
   },
   "file_extension": ".py",
   "mimetype": "text/x-python",
   "name": "python",
   "nbconvert_exporter": "python",
   "pygments_lexer": "ipython3",
   "version": "3.9.7"
  }
 },
 "nbformat": 4,
 "nbformat_minor": 5
}
