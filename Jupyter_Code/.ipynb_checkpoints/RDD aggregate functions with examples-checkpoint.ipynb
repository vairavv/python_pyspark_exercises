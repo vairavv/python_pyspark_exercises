{
 "cells": [
  {
   "cell_type": "code",
   "execution_count": 2,
   "id": "59c77175",
   "metadata": {},
   "outputs": [],
   "source": [
    "from pyspark.sql import SparkSession\n",
    "\n",
    "spark = SparkSession.builder.appName(\"YourSparkApplication\").master(\"local[*]\").getOrCreate()\n",
    "\n",
    "# The SparkContext is available through the SparkSession\n",
    "sc = spark.sparkContext"
   ]
  },
  {
   "cell_type": "code",
   "execution_count": 3,
   "id": "68a6d3c1",
   "metadata": {},
   "outputs": [],
   "source": [
    "data=[('apple',1),('orange',5),('banana',4),('apple',3)]"
   ]
  },
  {
   "cell_type": "code",
   "execution_count": 4,
   "id": "5117ad62",
   "metadata": {},
   "outputs": [
    {
     "data": {
      "text/plain": [
       "[('apple', 1), ('orange', 5), ('banana', 4), ('apple', 3)]"
      ]
     },
     "execution_count": 4,
     "metadata": {},
     "output_type": "execute_result"
    }
   ],
   "source": [
    "data_=sc.parallelize(data)\n",
    "data_.collect()"
   ]
  },
  {
   "cell_type": "code",
   "execution_count": 5,
   "id": "c32f90bf",
   "metadata": {},
   "outputs": [
    {
     "data": {
      "text/plain": [
       "[('orange', <pyspark.resultiterable.ResultIterable at 0x2324dd3e730>),\n",
       " ('banana', <pyspark.resultiterable.ResultIterable at 0x2324dd3e790>),\n",
       " ('apple', <pyspark.resultiterable.ResultIterable at 0x2324dd3e7f0>)]"
      ]
     },
     "execution_count": 5,
     "metadata": {},
     "output_type": "execute_result"
    }
   ],
   "source": [
    "data_.groupByKey().collect()"
   ]
  },
  {
   "cell_type": "code",
   "execution_count": 6,
   "id": "371fe0a3",
   "metadata": {},
   "outputs": [
    {
     "name": "stdout",
     "output_type": "stream",
     "text": [
      "orange <pyspark.resultiterable.ResultIterable object at 0x000002324DD3EF40>\n",
      "banana <pyspark.resultiterable.ResultIterable object at 0x000002324DD3EF70>\n",
      "apple <pyspark.resultiterable.ResultIterable object at 0x000002324DD3EFD0>\n"
     ]
    }
   ],
   "source": [
    "grp_rdd=data_.groupByKey()\n",
    "\n",
    "for key,v in grp_rdd.collect():\n",
    "    print(key,v)"
   ]
  },
  {
   "cell_type": "code",
   "execution_count": 7,
   "id": "ee798ff9",
   "metadata": {},
   "outputs": [
    {
     "name": "stdout",
     "output_type": "stream",
     "text": [
      "orange [5]\n",
      "banana [4]\n",
      "apple [1, 3]\n"
     ]
    }
   ],
   "source": [
    "for key,v in grp_rdd.collect():\n",
    "    print(key,list(v))"
   ]
  },
  {
   "cell_type": "code",
   "execution_count": 8,
   "id": "d9f86db9",
   "metadata": {},
   "outputs": [
    {
     "data": {
      "text/plain": [
       "pyspark.rdd.PipelinedRDD"
      ]
     },
     "execution_count": 8,
     "metadata": {},
     "output_type": "execute_result"
    }
   ],
   "source": [
    "type(grp_rdd)"
   ]
  },
  {
   "cell_type": "code",
   "execution_count": 9,
   "id": "7dbc59d5",
   "metadata": {},
   "outputs": [
    {
     "name": "stdout",
     "output_type": "stream",
     "text": [
      "[('orange', <pyspark.resultiterable.ResultIterable object at 0x000002324DCB4CD0>), ('banana', <pyspark.resultiterable.ResultIterable object at 0x000002324DCB4B50>), ('apple', <pyspark.resultiterable.ResultIterable object at 0x000002324DD41070>)]\n"
     ]
    }
   ],
   "source": [
    "a=grp_rdd.collect()\n",
    "\n",
    "print(a)"
   ]
  },
  {
   "cell_type": "code",
   "execution_count": 10,
   "id": "881ae0ff",
   "metadata": {},
   "outputs": [
    {
     "data": {
      "text/plain": [
       "list"
      ]
     },
     "execution_count": 10,
     "metadata": {},
     "output_type": "execute_result"
    }
   ],
   "source": [
    "type(a)"
   ]
  },
  {
   "cell_type": "markdown",
   "id": "118b070f",
   "metadata": {},
   "source": [
    "### MapValues"
   ]
  },
  {
   "cell_type": "code",
   "execution_count": 11,
   "id": "b263bc24",
   "metadata": {},
   "outputs": [
    {
     "data": {
      "text/plain": [
       "[('orange', [5]), ('banana', [4]), ('apple', [1, 3])]"
      ]
     },
     "execution_count": 11,
     "metadata": {},
     "output_type": "execute_result"
    }
   ],
   "source": [
    "data_.groupByKey().mapValues(list).collect()"
   ]
  },
  {
   "cell_type": "code",
   "execution_count": 12,
   "id": "d63835f6",
   "metadata": {},
   "outputs": [
    {
     "data": {
      "text/plain": [
       "[('apple', 1), ('orange', 5), ('banana', 4), ('apple', 3)]"
      ]
     },
     "execution_count": 12,
     "metadata": {},
     "output_type": "execute_result"
    }
   ],
   "source": [
    "data_.collect()"
   ]
  },
  {
   "cell_type": "markdown",
   "id": "72131c90",
   "metadata": {},
   "source": [
    "### reduceByKey()"
   ]
  },
  {
   "cell_type": "code",
   "execution_count": 13,
   "id": "442042c8",
   "metadata": {},
   "outputs": [
    {
     "data": {
      "text/plain": [
       "[('orange', 5), ('banana', 4), ('apple', 4)]"
      ]
     },
     "execution_count": 13,
     "metadata": {},
     "output_type": "execute_result"
    }
   ],
   "source": [
    "data_.reduceByKey(lambda x,y:x+y).collect()"
   ]
  },
  {
   "cell_type": "markdown",
   "id": "59febfc8",
   "metadata": {},
   "source": [
    "### aggregateByKey()"
   ]
  },
  {
   "cell_type": "code",
   "execution_count": 15,
   "id": "c3314c6a",
   "metadata": {},
   "outputs": [
    {
     "data": {
      "text/plain": [
       "[('orange', 5), ('banana', 4), ('apple', 4)]"
      ]
     },
     "execution_count": 15,
     "metadata": {},
     "output_type": "execute_result"
    }
   ],
   "source": [
    "data_.aggregateByKey(0,lambda x,y:x+y,lambda x,y:x+y).collect()"
   ]
  },
  {
   "cell_type": "code",
   "execution_count": null,
   "id": "678736c0",
   "metadata": {},
   "outputs": [],
   "source": []
  }
 ],
 "metadata": {
  "kernelspec": {
   "display_name": "Python 3 (ipykernel)",
   "language": "python",
   "name": "python3"
  },
  "language_info": {
   "codemirror_mode": {
    "name": "ipython",
    "version": 3
   },
   "file_extension": ".py",
   "mimetype": "text/x-python",
   "name": "python",
   "nbconvert_exporter": "python",
   "pygments_lexer": "ipython3",
   "version": "3.9.7"
  }
 },
 "nbformat": 4,
 "nbformat_minor": 5
}
