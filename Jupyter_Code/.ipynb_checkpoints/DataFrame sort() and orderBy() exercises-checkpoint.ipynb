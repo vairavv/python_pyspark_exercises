{
 "cells": [
  {
   "cell_type": "code",
   "execution_count": 1,
   "id": "d79164d3",
   "metadata": {},
   "outputs": [],
   "source": [
    "from pyspark.sql import SparkSession\n",
    "\n",
    "#from pyspark.sql.functions import *\n",
    "\n",
    "spark = SparkSession.builder.appName(\"YourSparkApplication\").master(\"local[*]\").getOrCreate()"
   ]
  },
  {
   "cell_type": "code",
   "execution_count": 2,
   "id": "1ed0b594",
   "metadata": {},
   "outputs": [],
   "source": [
    "simpleData = [(\"James\",\"Sales\",\"NY\",90000,34,10000), \n",
    "    (\"Michael\",\"Sales\",\"NY\",86000,56,20000), \n",
    "    (\"Robert\",\"Sales\",\"CA\",81000,30,23000), \n",
    "    (\"Maria\",\"Finance\",\"CA\",90000,24,23000), \n",
    "    (\"Raman\",\"Finance\",\"CA\",99000,40,24000), \n",
    "    (\"Scott\",\"Finance\",\"NY\",83000,36,19000), \n",
    "    (\"Jen\",\"Finance\",\"NY\",79000,53,15000), \n",
    "    (\"Jeff\",\"Marketing\",\"CA\",80000,25,18000), \n",
    "    (\"Kumar\",\"Marketing\",\"NY\",91000,50,21000) \n",
    "  ]"
   ]
  },
  {
   "cell_type": "code",
   "execution_count": 3,
   "id": "c42a36ab",
   "metadata": {},
   "outputs": [],
   "source": [
    "columns= [\"employee_name\",\"department\",\"state\",\"salary\",\"age\",\"bonus\"]"
   ]
  },
  {
   "cell_type": "code",
   "execution_count": 4,
   "id": "f6400b1b",
   "metadata": {},
   "outputs": [],
   "source": [
    "df =spark.createDataFrame(simpleData,columns)"
   ]
  },
  {
   "cell_type": "code",
   "execution_count": 5,
   "id": "54c03715",
   "metadata": {},
   "outputs": [
    {
     "name": "stdout",
     "output_type": "stream",
     "text": [
      "+-------------+----------+-----+------+---+-----+\n",
      "|employee_name|department|state|salary|age|bonus|\n",
      "+-------------+----------+-----+------+---+-----+\n",
      "|        James|     Sales|   NY| 90000| 34|10000|\n",
      "|      Michael|     Sales|   NY| 86000| 56|20000|\n",
      "|       Robert|     Sales|   CA| 81000| 30|23000|\n",
      "|        Maria|   Finance|   CA| 90000| 24|23000|\n",
      "|        Raman|   Finance|   CA| 99000| 40|24000|\n",
      "|        Scott|   Finance|   NY| 83000| 36|19000|\n",
      "|          Jen|   Finance|   NY| 79000| 53|15000|\n",
      "|         Jeff| Marketing|   CA| 80000| 25|18000|\n",
      "|        Kumar| Marketing|   NY| 91000| 50|21000|\n",
      "+-------------+----------+-----+------+---+-----+\n",
      "\n"
     ]
    }
   ],
   "source": [
    "df.show()"
   ]
  },
  {
   "cell_type": "code",
   "execution_count": 6,
   "id": "1e4029b4",
   "metadata": {},
   "outputs": [
    {
     "name": "stdout",
     "output_type": "stream",
     "text": [
      "+-------------+----------+-----+------+---+-----+\n",
      "|employee_name|department|state|salary|age|bonus|\n",
      "+-------------+----------+-----+------+---+-----+\n",
      "|        Maria|   Finance|   CA| 90000| 24|23000|\n",
      "|         Jeff| Marketing|   CA| 80000| 25|18000|\n",
      "|       Robert|     Sales|   CA| 81000| 30|23000|\n",
      "|        James|     Sales|   NY| 90000| 34|10000|\n",
      "|        Scott|   Finance|   NY| 83000| 36|19000|\n",
      "|        Raman|   Finance|   CA| 99000| 40|24000|\n",
      "|        Kumar| Marketing|   NY| 91000| 50|21000|\n",
      "|          Jen|   Finance|   NY| 79000| 53|15000|\n",
      "|      Michael|     Sales|   NY| 86000| 56|20000|\n",
      "+-------------+----------+-----+------+---+-----+\n",
      "\n"
     ]
    }
   ],
   "source": [
    "df.sort('age','salary').show()"
   ]
  },
  {
   "cell_type": "markdown",
   "id": "b3655454",
   "metadata": {},
   "source": [
    "### 1 - using ascending parameter"
   ]
  },
  {
   "cell_type": "code",
   "execution_count": 9,
   "id": "6a6b1f91",
   "metadata": {},
   "outputs": [
    {
     "name": "stdout",
     "output_type": "stream",
     "text": [
      "+-------------+----------+-----+------+---+-----+\n",
      "|employee_name|department|state|salary|age|bonus|\n",
      "+-------------+----------+-----+------+---+-----+\n",
      "|        Raman|   Finance|   CA| 99000| 40|24000|\n",
      "|        Maria|   Finance|   CA| 90000| 24|23000|\n",
      "|       Robert|     Sales|   CA| 81000| 30|23000|\n",
      "|        Kumar| Marketing|   NY| 91000| 50|21000|\n",
      "|      Michael|     Sales|   NY| 86000| 56|20000|\n",
      "|        Scott|   Finance|   NY| 83000| 36|19000|\n",
      "|         Jeff| Marketing|   CA| 80000| 25|18000|\n",
      "|          Jen|   Finance|   NY| 79000| 53|15000|\n",
      "|        James|     Sales|   NY| 90000| 34|10000|\n",
      "+-------------+----------+-----+------+---+-----+\n",
      "\n"
     ]
    }
   ],
   "source": [
    "df.sort('bonus','department',ascending=[False,True]).show()"
   ]
  },
  {
   "cell_type": "code",
   "execution_count": 11,
   "id": "864805d8",
   "metadata": {},
   "outputs": [
    {
     "name": "stdout",
     "output_type": "stream",
     "text": [
      "+-------------+----------+-----+------+---+-----+\n",
      "|employee_name|department|state|salary|age|bonus|\n",
      "+-------------+----------+-----+------+---+-----+\n",
      "|        Raman|   Finance|   CA| 99000| 40|24000|\n",
      "|        Maria|   Finance|   CA| 90000| 24|23000|\n",
      "|       Robert|     Sales|   CA| 81000| 30|23000|\n",
      "|        Kumar| Marketing|   NY| 91000| 50|21000|\n",
      "|      Michael|     Sales|   NY| 86000| 56|20000|\n",
      "|        Scott|   Finance|   NY| 83000| 36|19000|\n",
      "|         Jeff| Marketing|   CA| 80000| 25|18000|\n",
      "|          Jen|   Finance|   NY| 79000| 53|15000|\n",
      "|        James|     Sales|   NY| 90000| 34|10000|\n",
      "+-------------+----------+-----+------+---+-----+\n",
      "\n"
     ]
    }
   ],
   "source": [
    "df.orderBy('bonus','department',ascending=[False,True]).show()"
   ]
  },
  {
   "cell_type": "markdown",
   "id": "77d45472",
   "metadata": {},
   "source": [
    "### 2 - asc() and desc() method"
   ]
  },
  {
   "cell_type": "code",
   "execution_count": 12,
   "id": "c9ce81f1",
   "metadata": {},
   "outputs": [
    {
     "name": "stdout",
     "output_type": "stream",
     "text": [
      "+-------------+----------+-----+------+---+-----+\n",
      "|employee_name|department|state|salary|age|bonus|\n",
      "+-------------+----------+-----+------+---+-----+\n",
      "|        Raman|   Finance|   CA| 99000| 40|24000|\n",
      "|        Maria|   Finance|   CA| 90000| 24|23000|\n",
      "|       Robert|     Sales|   CA| 81000| 30|23000|\n",
      "|        Kumar| Marketing|   NY| 91000| 50|21000|\n",
      "|      Michael|     Sales|   NY| 86000| 56|20000|\n",
      "|        Scott|   Finance|   NY| 83000| 36|19000|\n",
      "|         Jeff| Marketing|   CA| 80000| 25|18000|\n",
      "|          Jen|   Finance|   NY| 79000| 53|15000|\n",
      "|        James|     Sales|   NY| 90000| 34|10000|\n",
      "+-------------+----------+-----+------+---+-----+\n",
      "\n"
     ]
    }
   ],
   "source": [
    "df.sort(df.bonus.desc(),df.department.asc()).show()"
   ]
  },
  {
   "cell_type": "code",
   "execution_count": 13,
   "id": "126e30ea",
   "metadata": {},
   "outputs": [
    {
     "name": "stdout",
     "output_type": "stream",
     "text": [
      "+-------------+----------+-----+------+---+-----+\n",
      "|employee_name|department|state|salary|age|bonus|\n",
      "+-------------+----------+-----+------+---+-----+\n",
      "|        Raman|   Finance|   CA| 99000| 40|24000|\n",
      "|        Maria|   Finance|   CA| 90000| 24|23000|\n",
      "|       Robert|     Sales|   CA| 81000| 30|23000|\n",
      "|        Kumar| Marketing|   NY| 91000| 50|21000|\n",
      "|      Michael|     Sales|   NY| 86000| 56|20000|\n",
      "|        Scott|   Finance|   NY| 83000| 36|19000|\n",
      "|         Jeff| Marketing|   CA| 80000| 25|18000|\n",
      "|          Jen|   Finance|   NY| 79000| 53|15000|\n",
      "|        James|     Sales|   NY| 90000| 34|10000|\n",
      "+-------------+----------+-----+------+---+-----+\n",
      "\n"
     ]
    }
   ],
   "source": [
    "df.orderBy(df.bonus.desc(),df.department.asc()).show()"
   ]
  },
  {
   "cell_type": "markdown",
   "id": "1a954e06",
   "metadata": {},
   "source": [
    "#### observation - sort() and orderBy() takes same kind of parameters as input and returns identical outcome"
   ]
  },
  {
   "cell_type": "code",
   "execution_count": null,
   "id": "315b4e35",
   "metadata": {},
   "outputs": [],
   "source": []
  }
 ],
 "metadata": {
  "kernelspec": {
   "display_name": "Python 3 (ipykernel)",
   "language": "python",
   "name": "python3"
  },
  "language_info": {
   "codemirror_mode": {
    "name": "ipython",
    "version": 3
   },
   "file_extension": ".py",
   "mimetype": "text/x-python",
   "name": "python",
   "nbconvert_exporter": "python",
   "pygments_lexer": "ipython3",
   "version": "3.9.7"
  }
 },
 "nbformat": 4,
 "nbformat_minor": 5
}
