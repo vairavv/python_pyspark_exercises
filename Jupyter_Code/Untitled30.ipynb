{
 "cells": [
  {
   "cell_type": "code",
   "execution_count": null,
   "metadata": {},
   "outputs": [],
   "source": [
    "s=input().strip()\n",
    "sub=input().strip()\n",
    "custom_len=len(s)-len(sub)\n",
    "sub_len=len(sub)\n",
    "count=0\n",
    "for i in range(0,custom_len+1):\n",
    "    #print(s[i:i+sub_len])\n",
    "    if sub==s[i:i+sub_len]:\n",
    "        count+=1\n",
    "print(count)"
   ]
  },
  {
   "cell_type": "code",
   "execution_count": null,
   "metadata": {},
   "outputs": [],
   "source": [
    "s=input().strip()\n",
    "sub=input().strip()\n",
    "custom_len=len(s)-len(sub)\n",
    "sub_len=len(sub)\n",
    "count=0\n",
    "for i in range(0,custom_len+1):\n",
    "    #print(s[i:i+sub_len])\n",
    "    if sub==s[i:i+sub_len]:\n",
    "        count+=1\n",
    "print(count)"
   ]
  },
  {
   "cell_type": "code",
   "execution_count": null,
   "metadata": {},
   "outputs": [],
   "source": [
    "muhtu\n",
    "ut\n"
   ]
  },
  {
   "cell_type": "code",
   "execution_count": null,
   "metadata": {},
   "outputs": [],
   "source": []
  }
 ],
 "metadata": {
  "kernelspec": {
   "display_name": "Python 3",
   "language": "python",
   "name": "python3"
  }
 },
 "nbformat": 4,
 "nbformat_minor": 4
}
