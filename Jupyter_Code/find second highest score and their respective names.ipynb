{
 "cells": [
  {
   "cell_type": "code",
   "execution_count": 23,
   "metadata": {},
   "outputs": [
    {
     "name": "stdout",
     "output_type": "stream",
     "text": [
      "4\n",
      "muthu\n",
      "78\n",
      "vairav\n",
      "78\n",
      "reddie\n",
      "87\n",
      "barry\n",
      "45\n",
      "{78.0: ['muthu', 'vairav'], 87.0: ['reddie'], 45.0: ['barry']}\n",
      "[45.0, 78.0, 87.0]\n",
      "muthu\n",
      "vairav\n"
     ]
    }
   ],
   "source": [
    "numb=int(input())\n",
    "stud_marks={}\n",
    "for x in range(numb):\n",
    "        name = input()\n",
    "        score = float(input())\n",
    "        if score in stud_marks:\n",
    "            stud_marks[score].append(name)\n",
    "        else:\n",
    "            stud_marks[score]=[name]\n",
    "print(stud_marks)\n",
    "\n",
    "marks_list=[]\n",
    "for y in stud_marks:\n",
    "    marks_list.append(y)\n",
    "\n",
    "marks_list.sort()\n",
    "print(marks_list)\n",
    "\n",
    "z=marks_list[1]\n",
    "stud_marks[z].sort()\n",
    "\n",
    "for i in stud_marks[z]:\n",
    "    print(i)\n"
   ]
  },
  {
   "cell_type": "code",
   "execution_count": null,
   "metadata": {},
   "outputs": [],
   "source": []
  }
 ],
 "metadata": {
  "kernelspec": {
   "display_name": "Python 3",
   "language": "python",
   "name": "python3"
  },
  "language_info": {
   "codemirror_mode": {
    "name": "ipython",
    "version": 3
   },
   "file_extension": ".py",
   "mimetype": "text/x-python",
   "name": "python",
   "nbconvert_exporter": "python",
   "pygments_lexer": "ipython3",
   "version": "3.7.6"
  }
 },
 "nbformat": 4,
 "nbformat_minor": 4
}
