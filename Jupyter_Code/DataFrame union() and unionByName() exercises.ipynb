{
 "cells": [
  {
   "cell_type": "code",
   "execution_count": 1,
   "id": "ab65e3d6",
   "metadata": {},
   "outputs": [],
   "source": [
    "from pyspark.sql import SparkSession\n",
    "\n",
    "from pyspark.sql.functions import col\n",
    "\n",
    "spark = SparkSession.builder.appName(\"YourSparkApplication\").master(\"local[*]\").getOrCreate()"
   ]
  },
  {
   "cell_type": "code",
   "execution_count": 2,
   "id": "23daacd1",
   "metadata": {},
   "outputs": [],
   "source": [
    "simpleData = [(\"James\",\"Sales\",\"NY\",90000,34,10000), \n",
    "    (\"Michael\",\"Sales\",\"NY\",86000,56,20000), \n",
    "    (\"Robert\",\"Sales\",\"CA\",81000,30,23000), \n",
    "    (\"Maria\",\"Finance\",\"CA\",90000,24,23000) \n",
    "  ]"
   ]
  },
  {
   "cell_type": "code",
   "execution_count": 3,
   "id": "3896870f",
   "metadata": {},
   "outputs": [],
   "source": [
    "columns= [\"employee_name\",\"department\",\"state\",\"salary\",\"age\",\"bonus\"]"
   ]
  },
  {
   "cell_type": "code",
   "execution_count": 4,
   "id": "49649cf4",
   "metadata": {},
   "outputs": [],
   "source": [
    "df =spark.createDataFrame(simpleData,columns)"
   ]
  },
  {
   "cell_type": "code",
   "execution_count": 5,
   "id": "b9138efa",
   "metadata": {},
   "outputs": [],
   "source": [
    "simpleData2 = [(\"James\",\"Sales\",\"NY\",90000,34,10000), \n",
    "    (\"Maria\",\"Finance\",\"CA\",90000,24,23000), \n",
    "    (\"Jen\",\"Finance\",\"NY\",79000,53,15000), \n",
    "    (\"Jeff\",\"Marketing\",\"CA\",80000,25,18000), \n",
    "    (\"Kumar\",\"Marketing\",\"NY\",91000,50,21000) \n",
    "  ]"
   ]
  },
  {
   "cell_type": "code",
   "execution_count": 6,
   "id": "653ed694",
   "metadata": {},
   "outputs": [],
   "source": [
    "df2 =spark.createDataFrame(simpleData2,columns)"
   ]
  },
  {
   "cell_type": "code",
   "execution_count": 7,
   "id": "ca600e79",
   "metadata": {},
   "outputs": [
    {
     "name": "stdout",
     "output_type": "stream",
     "text": [
      "+-------------+----------+-----+------+---+-----+\n",
      "|employee_name|department|state|salary|age|bonus|\n",
      "+-------------+----------+-----+------+---+-----+\n",
      "|        James|     Sales|   NY| 90000| 34|10000|\n",
      "|        James|     Sales|   NY| 90000| 34|10000|\n",
      "|         Jeff| Marketing|   CA| 80000| 25|18000|\n",
      "|          Jen|   Finance|   NY| 79000| 53|15000|\n",
      "|        Kumar| Marketing|   NY| 91000| 50|21000|\n",
      "|        Maria|   Finance|   CA| 90000| 24|23000|\n",
      "|        Maria|   Finance|   CA| 90000| 24|23000|\n",
      "|      Michael|     Sales|   NY| 86000| 56|20000|\n",
      "|       Robert|     Sales|   CA| 81000| 30|23000|\n",
      "+-------------+----------+-----+------+---+-----+\n",
      "\n"
     ]
    }
   ],
   "source": [
    "df.union(df2).sort('employee_name').show()"
   ]
  },
  {
   "cell_type": "markdown",
   "id": "22b9b4e5",
   "metadata": {},
   "source": [
    "### unlike sql , union doesn't suppress duplicates.\n",
    "\n",
    "### To suppress duplicates, distinct() function can be leveraged.\n",
    "\n",
    "### union performs the operation based on position and not by name."
   ]
  },
  {
   "cell_type": "code",
   "execution_count": 8,
   "id": "f8ac6bb7",
   "metadata": {
    "scrolled": true
   },
   "outputs": [
    {
     "name": "stdout",
     "output_type": "stream",
     "text": [
      "+-------------+----------+-----+------+---+-----+\n",
      "|employee_name|department|state|salary|age|bonus|\n",
      "+-------------+----------+-----+------+---+-----+\n",
      "|        James|     Sales|   NY| 90000| 34|10000|\n",
      "|         Jeff| Marketing|   CA| 80000| 25|18000|\n",
      "|          Jen|   Finance|   NY| 79000| 53|15000|\n",
      "|        Kumar| Marketing|   NY| 91000| 50|21000|\n",
      "|        Maria|   Finance|   CA| 90000| 24|23000|\n",
      "|      Michael|     Sales|   NY| 86000| 56|20000|\n",
      "|       Robert|     Sales|   CA| 81000| 30|23000|\n",
      "+-------------+----------+-----+------+---+-----+\n",
      "\n"
     ]
    }
   ],
   "source": [
    "df.union(df2).distinct().sort('employee_name').show()"
   ]
  },
  {
   "cell_type": "code",
   "execution_count": 9,
   "id": "e73628e1",
   "metadata": {},
   "outputs": [],
   "source": [
    "df3 = spark.createDataFrame([[1, 2, 3]], [\"col0\", \"col1\", \"col2\"])"
   ]
  },
  {
   "cell_type": "code",
   "execution_count": 17,
   "id": "f91b51c0",
   "metadata": {},
   "outputs": [],
   "source": [
    "df4 = spark.createDataFrame([[4, 5, 6]], [\"col1\", \"col2\", \"col3\"])"
   ]
  },
  {
   "cell_type": "code",
   "execution_count": 18,
   "id": "61f9a6de",
   "metadata": {},
   "outputs": [
    {
     "name": "stdout",
     "output_type": "stream",
     "text": [
      "+----+----+----+----+\n",
      "|col0|col1|col2|col3|\n",
      "+----+----+----+----+\n",
      "|   1|   2|   3|null|\n",
      "|null|   4|   5|   6|\n",
      "+----+----+----+----+\n",
      "\n"
     ]
    }
   ],
   "source": [
    "df3.unionByName(df4,allowMissingColumns=True).show()"
   ]
  },
  {
   "cell_type": "markdown",
   "id": "2d047d46",
   "metadata": {},
   "source": [
    "### unionByName performs the operation by Name and not with position.\n",
    "\n",
    "### allowMissingColumns parameter defines whether to display columns uncommon between the datasets."
   ]
  },
  {
   "cell_type": "code",
   "execution_count": null,
   "id": "81ce6a4a",
   "metadata": {},
   "outputs": [],
   "source": []
  }
 ],
 "metadata": {
  "kernelspec": {
   "display_name": "Python 3 (ipykernel)",
   "language": "python",
   "name": "python3"
  },
  "language_info": {
   "codemirror_mode": {
    "name": "ipython",
    "version": 3
   },
   "file_extension": ".py",
   "mimetype": "text/x-python",
   "name": "python",
   "nbconvert_exporter": "python",
   "pygments_lexer": "ipython3",
   "version": "3.9.7"
  }
 },
 "nbformat": 4,
 "nbformat_minor": 5
}
