{
 "cells": [
  {
   "cell_type": "markdown",
   "metadata": {},
   "source": [
    "## counting number of substrings in a string"
   ]
  },
  {
   "cell_type": "code",
   "execution_count": 22,
   "metadata": {},
   "outputs": [
    {
     "name": "stdout",
     "output_type": "stream",
     "text": [
      "BACHECHAHEC\n",
      "HEC\n",
      "2\n"
     ]
    }
   ],
   "source": [
    "s=input().strip()\n",
    "sub=input().strip()\n",
    "custom_len=len(s)-len(sub)\n",
    "sub_len=len(sub)\n",
    "count=0\n",
    "for i in range(0,custom_len+1):\n",
    "    #print(s[i:i+sub_len])\n",
    "    if sub==s[i:i+sub_len]:\n",
    "        count+=1\n",
    "print(count)"
   ]
  },
  {
   "cell_type": "code",
   "execution_count": 24,
   "metadata": {},
   "outputs": [
    {
     "name": "stdout",
     "output_type": "stream",
     "text": [
      "Hello Ross Taylor ! You just delved into python\n"
     ]
    }
   ],
   "source": [
    "print('Hello','Ross','Taylor','!','You just delved into python')"
   ]
  },
  {
   "cell_type": "code",
   "execution_count": null,
   "metadata": {},
   "outputs": [],
   "source": []
  }
 ],
 "metadata": {
  "kernelspec": {
   "display_name": "Python 3",
   "language": "python",
   "name": "python3"
  },
  "language_info": {
   "codemirror_mode": {
    "name": "ipython",
    "version": 3
   },
   "file_extension": ".py",
   "mimetype": "text/x-python",
   "name": "python",
   "nbconvert_exporter": "python",
   "pygments_lexer": "ipython3",
   "version": "3.7.6"
  }
 },
 "nbformat": 4,
 "nbformat_minor": 4
}
