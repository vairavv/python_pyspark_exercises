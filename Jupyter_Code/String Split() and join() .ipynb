{
 "cells": [
  {
   "cell_type": "markdown",
   "metadata": {},
   "source": [
    "## String Split()"
   ]
  },
  {
   "cell_type": "code",
   "execution_count": 1,
   "metadata": {},
   "outputs": [
    {
     "name": "stdout",
     "output_type": "stream",
     "text": [
      "['geeks', 'for', 'geeks', 'turn']\n"
     ]
    }
   ],
   "source": [
    "word ='geeks,for,geeks,turn'\n",
    "\n",
    "print(word.split(','))"
   ]
  },
  {
   "cell_type": "code",
   "execution_count": 2,
   "metadata": {},
   "outputs": [
    {
     "name": "stdout",
     "output_type": "stream",
     "text": [
      "['geeks', 'for', 'geeks,turn']\n"
     ]
    }
   ],
   "source": [
    "print(word.split(',',2))"
   ]
  },
  {
   "cell_type": "markdown",
   "metadata": {},
   "source": [
    "## String join()"
   ]
  },
  {
   "cell_type": "code",
   "execution_count": 4,
   "metadata": {},
   "outputs": [
    {
     "name": "stdout",
     "output_type": "stream",
     "text": [
      "['m', 'u', 't', 'h', 'u', 'v', 'a', 'i', 'r', 'a', 'v', 'a', 'n', 'p', 'o', 'n', 'l', 'a', 'k', 's', 'h', 'm', 'i']\n",
      "muthuvairavanponlakshmi\n"
     ]
    }
   ],
   "source": [
    "strng='muthuvairavanponlakshmi'\n",
    "lst =list(strng)\n",
    "\n",
    "print(lst)\n",
    "\n",
    "new_strng =''.join(lst)\n",
    "\n",
    "print(new_strng)\n",
    "\n",
    "\n"
   ]
  },
  {
   "cell_type": "code",
   "execution_count": 8,
   "metadata": {},
   "outputs": [
    {
     "name": "stdout",
     "output_type": "stream",
     "text": [
      "<class 'str'>\n",
      "<class 'list'>\n",
      "['m', 'u', 't', 'h', 'u', 'v', 'a', 'i', 'r', 'a', 'v', 'a', 'n', 'p', 'o', 'n', 'l', 'a', 'k', 's', 'h', 'm', 'i']\n",
      "['m', 'u', 't', 'h', 'u', 'v', 'a', 'i', 'r', 'a', 'v', 'a', 'n', 'p', 'o', 'n', 'l', 'a', 'k', 's', 'h', 'm', 'i']\n"
     ]
    }
   ],
   "source": [
    "new_str =str(lst)\n",
    "\n",
    "print(type(new_str))\n",
    "\n",
    "print(type(lst))\n",
    "\n",
    "print(lst)\n",
    "\n",
    "print(new_str)"
   ]
  },
  {
   "cell_type": "code",
   "execution_count": 2,
   "metadata": {},
   "outputs": [
    {
     "data": {
      "text/plain": [
       "str"
      ]
     },
     "execution_count": 2,
     "metadata": {},
     "output_type": "execute_result"
    }
   ],
   "source": [
    "type(word)"
   ]
  },
  {
   "cell_type": "code",
   "execution_count": 8,
   "metadata": {},
   "outputs": [
    {
     "data": {
      "text/plain": [
       "['geeks', 'for', 'geeks', 'turn']"
      ]
     },
     "execution_count": 8,
     "metadata": {},
     "output_type": "execute_result"
    }
   ],
   "source": [
    "x=word.split(',')\n",
    "x"
   ]
  },
  {
   "cell_type": "code",
   "execution_count": 6,
   "metadata": {},
   "outputs": [
    {
     "data": {
      "text/plain": [
       "list"
      ]
     },
     "execution_count": 6,
     "metadata": {},
     "output_type": "execute_result"
    }
   ],
   "source": [
    "type(x)"
   ]
  },
  {
   "cell_type": "code",
   "execution_count": 9,
   "metadata": {},
   "outputs": [
    {
     "data": {
      "text/plain": [
       "['hi,how,r u',\n",
       " 'welcome,to,the,world,of,spark',\n",
       " 'hope, to , learn,consistently']"
      ]
     },
     "execution_count": 9,
     "metadata": {},
     "output_type": "execute_result"
    }
   ],
   "source": [
    "txt=['hi,how,r u','welcome,to,the,world,of,spark','hope, to , learn,consistently']\n",
    "\n",
    "txt"
   ]
  },
  {
   "cell_type": "code",
   "execution_count": 10,
   "metadata": {},
   "outputs": [
    {
     "name": "stdout",
     "output_type": "stream",
     "text": [
      "False\n"
     ]
    }
   ],
   "source": [
    "print('welcome' in txt)"
   ]
  },
  {
   "cell_type": "code",
   "execution_count": 21,
   "metadata": {},
   "outputs": [
    {
     "data": {
      "text/plain": [
       "['hope, to , learn,consistently']"
      ]
     },
     "execution_count": 21,
     "metadata": {},
     "output_type": "execute_result"
    }
   ],
   "source": [
    "x=list(filter(lambda x:'hope' in x,txt))\n",
    "\n",
    "x"
   ]
  },
  {
   "cell_type": "code",
   "execution_count": 25,
   "metadata": {},
   "outputs": [
    {
     "name": "stdout",
     "output_type": "stream",
     "text": [
      "welcome to the world of spark\n",
      "True\n"
     ]
    }
   ],
   "source": [
    "strr='welcome to the world of spark'\n",
    "\n",
    "print(strr)\n",
    "\n",
    "type(strr)\n",
    "\n",
    "print('welcome' in strr)"
   ]
  },
  {
   "cell_type": "code",
   "execution_count": 26,
   "metadata": {},
   "outputs": [
    {
     "name": "stdout",
     "output_type": "stream",
     "text": [
      "w\n",
      "e\n",
      "l\n",
      "c\n",
      "o\n",
      "m\n",
      "e\n",
      " \n",
      "t\n",
      "o\n",
      " \n",
      "t\n",
      "h\n",
      "e\n",
      " \n",
      "w\n",
      "o\n",
      "r\n",
      "l\n",
      "d\n",
      " \n",
      "o\n",
      "f\n",
      " \n",
      "s\n",
      "p\n",
      "a\n",
      "r\n",
      "k\n"
     ]
    }
   ],
   "source": [
    "for i in strr:\n",
    "    print(i)"
   ]
  },
  {
   "cell_type": "code",
   "execution_count": null,
   "metadata": {},
   "outputs": [],
   "source": []
  }
 ],
 "metadata": {
  "kernelspec": {
   "display_name": "Python 3 (ipykernel)",
   "language": "python",
   "name": "python3"
  },
  "language_info": {
   "codemirror_mode": {
    "name": "ipython",
    "version": 3
   },
   "file_extension": ".py",
   "mimetype": "text/x-python",
   "name": "python",
   "nbconvert_exporter": "python",
   "pygments_lexer": "ipython3",
   "version": "3.9.7"
  }
 },
 "nbformat": 4,
 "nbformat_minor": 4
}
