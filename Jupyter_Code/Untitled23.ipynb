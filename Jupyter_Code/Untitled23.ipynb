{
 "cells": [
  {
   "cell_type": "code",
   "execution_count": 5,
   "metadata": {},
   "outputs": [
    {
     "name": "stdout",
     "output_type": "stream",
     "text": [
      "muthu\n",
      "98\n",
      "nila\n",
      "99\n",
      "[['muthu', 98.0], ['nila', 99.0]]\n"
     ]
    }
   ],
   "source": [
    "stud_marks=[]\n",
    "for x in range(2):\n",
    "        name = input()\n",
    "        score = float(input())\n",
    "        stud_marks.append([name,score])\n",
    "print(stud_marks)"
   ]
  },
  {
   "cell_type": "code",
   "execution_count": null,
   "metadata": {},
   "outputs": [],
   "source": []
  }
 ],
 "metadata": {
  "kernelspec": {
   "display_name": "Python 3",
   "language": "python",
   "name": "python3"
  },
  "language_info": {
   "codemirror_mode": {
    "name": "ipython",
    "version": 3
   },
   "file_extension": ".py",
   "mimetype": "text/x-python",
   "name": "python",
   "nbconvert_exporter": "python",
   "pygments_lexer": "ipython3",
   "version": "3.7.6"
  }
 },
 "nbformat": 4,
 "nbformat_minor": 4
}
