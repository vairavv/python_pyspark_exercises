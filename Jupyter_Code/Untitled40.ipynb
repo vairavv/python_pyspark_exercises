{
 "cells": [
  {
   "cell_type": "code",
   "execution_count": 1,
   "id": "0882611c",
   "metadata": {},
   "outputs": [
    {
     "name": "stdout",
     "output_type": "stream",
     "text": [
      "<enumerate object at 0x000002136C797540>\n"
     ]
    }
   ],
   "source": [
    "fruits=['apples','oranges','bananas']\n",
    "\n",
    "print(enumerate(fruits))"
   ]
  },
  {
   "cell_type": "code",
   "execution_count": 2,
   "id": "d9b5a295",
   "metadata": {},
   "outputs": [],
   "source": [
    "enum=enumerate(fruits)"
   ]
  },
  {
   "cell_type": "code",
   "execution_count": 3,
   "id": "b212f73c",
   "metadata": {},
   "outputs": [
    {
     "name": "stdout",
     "output_type": "stream",
     "text": [
      "<enumerate object at 0x000002136C80B900>\n"
     ]
    }
   ],
   "source": [
    "print(enum)"
   ]
  },
  {
   "cell_type": "code",
   "execution_count": 4,
   "id": "b68ea0eb",
   "metadata": {
    "scrolled": true
   },
   "outputs": [
    {
     "ename": "TypeError",
     "evalue": "'enumerate' object is not subscriptable",
     "output_type": "error",
     "traceback": [
      "\u001b[1;31m---------------------------------------------------------------------------\u001b[0m",
      "\u001b[1;31mTypeError\u001b[0m                                 Traceback (most recent call last)",
      "\u001b[1;32m~\\AppData\\Local\\Temp/ipykernel_20296/4290737261.py\u001b[0m in \u001b[0;36m<module>\u001b[1;34m\u001b[0m\n\u001b[1;32m----> 1\u001b[1;33m \u001b[0mprint\u001b[0m\u001b[1;33m(\u001b[0m\u001b[0menum\u001b[0m\u001b[1;33m[\u001b[0m\u001b[1;36m0\u001b[0m\u001b[1;33m]\u001b[0m\u001b[1;33m)\u001b[0m\u001b[1;33m\u001b[0m\u001b[1;33m\u001b[0m\u001b[0m\n\u001b[0m",
      "\u001b[1;31mTypeError\u001b[0m: 'enumerate' object is not subscriptable"
     ]
    }
   ],
   "source": [
    "print(enum[0])"
   ]
  },
  {
   "cell_type": "code",
   "execution_count": 5,
   "id": "9fd86f82",
   "metadata": {},
   "outputs": [
    {
     "name": "stdout",
     "output_type": "stream",
     "text": [
      "(0, 'apples')\n",
      "(1, 'oranges')\n",
      "(2, 'bananas')\n"
     ]
    }
   ],
   "source": [
    "for i in enum:\n",
    "    print(i)"
   ]
  },
  {
   "cell_type": "code",
   "execution_count": 6,
   "id": "515ab84e",
   "metadata": {},
   "outputs": [
    {
     "name": "stdout",
     "output_type": "stream",
     "text": [
      "<class 'enumerate'>\n"
     ]
    }
   ],
   "source": [
    "print(type(enum))"
   ]
  },
  {
   "cell_type": "code",
   "execution_count": 7,
   "id": "e8179295",
   "metadata": {},
   "outputs": [
    {
     "name": "stdout",
     "output_type": "stream",
     "text": [
      "<enumerate object at 0x000002136C80B900>\n"
     ]
    }
   ],
   "source": [
    "print(enum)"
   ]
  },
  {
   "cell_type": "code",
   "execution_count": 13,
   "id": "66fac42a",
   "metadata": {},
   "outputs": [
    {
     "name": "stdout",
     "output_type": "stream",
     "text": [
      "the addition of two numbers are 11\n"
     ]
    }
   ],
   "source": [
    "def add(a,b):\n",
    "    result=a+b\n",
    "    return result\n",
    "\n",
    "print('the addition of two numbers are',add(5,6))"
   ]
  },
  {
   "cell_type": "code",
   "execution_count": 15,
   "id": "19bc07d5",
   "metadata": {},
   "outputs": [
    {
     "name": "stdout",
     "output_type": "stream",
     "text": [
      "25\n",
      "the number 25 is an odd number\n"
     ]
    }
   ],
   "source": [
    "inp = int(input())\n",
    "\n",
    "if inp%2 ==0:\n",
    "    print('the number %d is an even number'%(inp))\n",
    "elif inp%2 ==1:\n",
    "    print('the number %d is an odd number'%(inp))"
   ]
  },
  {
   "cell_type": "code",
   "execution_count": 23,
   "id": "4f77cb96",
   "metadata": {},
   "outputs": [
    {
     "name": "stdout",
     "output_type": "stream",
     "text": [
      "<class 'list'>\n"
     ]
    },
    {
     "ename": "SyntaxError",
     "evalue": "starred assignment target must be in a list or tuple (Temp/ipykernel_20296/3757255596.py, line 4)",
     "output_type": "error",
     "traceback": [
      "\u001b[1;36m  File \u001b[1;32m\"C:\\Users\\Muthu\\AppData\\Local\\Temp/ipykernel_20296/3757255596.py\"\u001b[1;36m, line \u001b[1;32m4\u001b[0m\n\u001b[1;33m    *lst =range(3)\u001b[0m\n\u001b[1;37m    ^\u001b[0m\n\u001b[1;31mSyntaxError\u001b[0m\u001b[1;31m:\u001b[0m starred assignment target must be in a list or tuple\n"
     ]
    }
   ],
   "source": [
    "lst =[]\n",
    "print(type(lst))\n",
    "\n",
    "*lst =range(3)\n",
    "\n",
    "print(lst)\n",
    "print(type(lst))"
   ]
  },
  {
   "cell_type": "code",
   "execution_count": 29,
   "id": "4a1dba27",
   "metadata": {},
   "outputs": [
    {
     "name": "stdout",
     "output_type": "stream",
     "text": [
      "['muthu', 'vairavan', 'velikandan'] <class 'list'>\n"
     ]
    }
   ],
   "source": [
    "*names, ='muthu','vairavan','velikandan'\n",
    "\n",
    "print(names, type(names))"
   ]
  },
  {
   "cell_type": "code",
   "execution_count": 30,
   "id": "814bf7d0",
   "metadata": {},
   "outputs": [],
   "source": [
    "*id, =range(3)"
   ]
  },
  {
   "cell_type": "code",
   "execution_count": 31,
   "id": "0eea062a",
   "metadata": {},
   "outputs": [
    {
     "name": "stdout",
     "output_type": "stream",
     "text": [
      "[0, 1, 2]\n"
     ]
    }
   ],
   "source": [
    "print(id)"
   ]
  },
  {
   "cell_type": "code",
   "execution_count": 32,
   "id": "5ab803ad",
   "metadata": {},
   "outputs": [
    {
     "name": "stdout",
     "output_type": "stream",
     "text": [
      "<class 'list'>\n"
     ]
    }
   ],
   "source": [
    "print(type(id))"
   ]
  },
  {
   "cell_type": "code",
   "execution_count": 33,
   "id": "de7722d5",
   "metadata": {},
   "outputs": [
    {
     "ename": "ValueError",
     "evalue": "too many values to unpack (expected 1)",
     "output_type": "error",
     "traceback": [
      "\u001b[1;31m---------------------------------------------------------------------------\u001b[0m",
      "\u001b[1;31mValueError\u001b[0m                                Traceback (most recent call last)",
      "\u001b[1;32m~\\AppData\\Local\\Temp/ipykernel_20296/462125313.py\u001b[0m in \u001b[0;36m<module>\u001b[1;34m\u001b[0m\n\u001b[1;32m----> 1\u001b[1;33m \u001b[0mid\u001b[0m\u001b[1;33m,\u001b[0m\u001b[1;33m=\u001b[0m\u001b[0mrange\u001b[0m\u001b[1;33m(\u001b[0m\u001b[1;36m3\u001b[0m\u001b[1;33m)\u001b[0m\u001b[1;33m\u001b[0m\u001b[1;33m\u001b[0m\u001b[0m\n\u001b[0m",
      "\u001b[1;31mValueError\u001b[0m: too many values to unpack (expected 1)"
     ]
    }
   ],
   "source": [
    "id,=range(3)"
   ]
  },
  {
   "cell_type": "code",
   "execution_count": 34,
   "id": "7a31b3e5",
   "metadata": {},
   "outputs": [],
   "source": [
    "*id,=range(3)"
   ]
  },
  {
   "cell_type": "code",
   "execution_count": 35,
   "id": "35d992be",
   "metadata": {},
   "outputs": [
    {
     "name": "stdout",
     "output_type": "stream",
     "text": [
      "[0, 1, 2]\n"
     ]
    }
   ],
   "source": [
    "print(id)"
   ]
  },
  {
   "cell_type": "code",
   "execution_count": 36,
   "id": "38a3c36b",
   "metadata": {},
   "outputs": [
    {
     "name": "stdout",
     "output_type": "stream",
     "text": [
      "['apples', 'oranges', 'bananas']\n"
     ]
    }
   ],
   "source": [
    "print(fruits)"
   ]
  },
  {
   "cell_type": "code",
   "execution_count": 37,
   "id": "d4954047",
   "metadata": {},
   "outputs": [
    {
     "name": "stdout",
     "output_type": "stream",
     "text": [
      "apples oranges bananas\n"
     ]
    }
   ],
   "source": [
    "print(*fruits)"
   ]
  },
  {
   "cell_type": "code",
   "execution_count": 38,
   "id": "1434728b",
   "metadata": {},
   "outputs": [
    {
     "name": "stdout",
     "output_type": "stream",
     "text": [
      "0 1 2\n"
     ]
    }
   ],
   "source": [
    "print(*range(3))"
   ]
  },
  {
   "cell_type": "code",
   "execution_count": 39,
   "id": "839dce01",
   "metadata": {},
   "outputs": [
    {
     "name": "stdout",
     "output_type": "stream",
     "text": [
      "range(0, 3)\n"
     ]
    }
   ],
   "source": [
    "print(range(3))"
   ]
  },
  {
   "cell_type": "code",
   "execution_count": 40,
   "id": "1768d4a9",
   "metadata": {},
   "outputs": [
    {
     "name": "stdout",
     "output_type": "stream",
     "text": [
      "[0, 1, 2]\n"
     ]
    }
   ],
   "source": [
    "print(id)"
   ]
  },
  {
   "cell_type": "code",
   "execution_count": 41,
   "id": "718aa585",
   "metadata": {},
   "outputs": [
    {
     "name": "stdout",
     "output_type": "stream",
     "text": [
      "0 1 2\n"
     ]
    }
   ],
   "source": [
    "print(*id)"
   ]
  },
  {
   "cell_type": "code",
   "execution_count": 42,
   "id": "f1068050",
   "metadata": {},
   "outputs": [],
   "source": [
    "a,b,c=fruits"
   ]
  },
  {
   "cell_type": "code",
   "execution_count": 43,
   "id": "66e56ae1",
   "metadata": {},
   "outputs": [
    {
     "name": "stdout",
     "output_type": "stream",
     "text": [
      "apples oranges bananas\n"
     ]
    }
   ],
   "source": [
    "print(a,b,c)"
   ]
  },
  {
   "cell_type": "code",
   "execution_count": 44,
   "id": "dcc080f7",
   "metadata": {},
   "outputs": [
    {
     "ename": "SyntaxError",
     "evalue": "can't use starred expression here (Temp/ipykernel_20296/463796494.py, line 1)",
     "output_type": "error",
     "traceback": [
      "\u001b[1;36m  File \u001b[1;32m\"C:\\Users\\Muthu\\AppData\\Local\\Temp/ipykernel_20296/463796494.py\"\u001b[1;36m, line \u001b[1;32m1\u001b[0m\n\u001b[1;33m    a,b,c =*fruits\u001b[0m\n\u001b[1;37m           ^\u001b[0m\n\u001b[1;31mSyntaxError\u001b[0m\u001b[1;31m:\u001b[0m can't use starred expression here\n"
     ]
    }
   ],
   "source": [
    "a,b,c =*fruits"
   ]
  },
  {
   "cell_type": "code",
   "execution_count": 45,
   "id": "f5337848",
   "metadata": {},
   "outputs": [
    {
     "name": "stdout",
     "output_type": "stream",
     "text": [
      "True\n"
     ]
    }
   ],
   "source": [
    "a = 'aeiou'\n",
    "b='aeiou'\n",
    "\n",
    "print(a==b)"
   ]
  },
  {
   "cell_type": "code",
   "execution_count": 46,
   "id": "22c626df",
   "metadata": {},
   "outputs": [
    {
     "name": "stdout",
     "output_type": "stream",
     "text": [
      "True\n"
     ]
    }
   ],
   "source": [
    "print(a is b)"
   ]
  },
  {
   "cell_type": "code",
   "execution_count": 47,
   "id": "6f2b269c",
   "metadata": {},
   "outputs": [
    {
     "name": "stdout",
     "output_type": "stream",
     "text": [
      "True\n"
     ]
    }
   ],
   "source": [
    "a=5\n",
    "b=5\n",
    "print(a is b)"
   ]
  },
  {
   "cell_type": "code",
   "execution_count": 48,
   "id": "6ef0a7ea",
   "metadata": {},
   "outputs": [
    {
     "name": "stdout",
     "output_type": "stream",
     "text": [
      "False\n"
     ]
    }
   ],
   "source": [
    "a=[1,2]\n",
    "b=[1,2]\n",
    "\n",
    "print(a is b)"
   ]
  },
  {
   "cell_type": "code",
   "execution_count": 49,
   "id": "6d347e5c",
   "metadata": {},
   "outputs": [
    {
     "name": "stdout",
     "output_type": "stream",
     "text": [
      "True\n"
     ]
    }
   ],
   "source": [
    "print(a == b)"
   ]
  },
  {
   "cell_type": "code",
   "execution_count": 50,
   "id": "f0bb235a",
   "metadata": {},
   "outputs": [
    {
     "name": "stdout",
     "output_type": "stream",
     "text": [
      "<class 'list'>\n"
     ]
    }
   ],
   "source": [
    "print(type(a))"
   ]
  },
  {
   "cell_type": "code",
   "execution_count": 51,
   "id": "6d6955e0",
   "metadata": {},
   "outputs": [
    {
     "name": "stdout",
     "output_type": "stream",
     "text": [
      "<class 'list'>\n"
     ]
    }
   ],
   "source": [
    "print(type(b))"
   ]
  },
  {
   "cell_type": "code",
   "execution_count": null,
   "id": "2e2dec3e",
   "metadata": {},
   "outputs": [],
   "source": []
  }
 ],
 "metadata": {
  "kernelspec": {
   "display_name": "Python 3 (ipykernel)",
   "language": "python",
   "name": "python3"
  },
  "language_info": {
   "codemirror_mode": {
    "name": "ipython",
    "version": 3
   },
   "file_extension": ".py",
   "mimetype": "text/x-python",
   "name": "python",
   "nbconvert_exporter": "python",
   "pygments_lexer": "ipython3",
   "version": "3.9.7"
  }
 },
 "nbformat": 4,
 "nbformat_minor": 5
}
