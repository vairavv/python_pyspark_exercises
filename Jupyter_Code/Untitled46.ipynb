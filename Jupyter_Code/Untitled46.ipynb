{
 "cells": [
  {
   "cell_type": "code",
   "execution_count": 2,
   "id": "880c3987",
   "metadata": {},
   "outputs": [],
   "source": [
    "from pyspark.sql import SparkSession\n",
    "\n",
    "spark = SparkSession.builder.appName(\"mappartitions\").master(\"local[*]\").getOrCreate()\n",
    "\n",
    "# The SparkContext is available through the SparkSession\n",
    "sc = spark.sparkContext"
   ]
  },
  {
   "cell_type": "code",
   "execution_count": 4,
   "id": "ac6dd422",
   "metadata": {},
   "outputs": [],
   "source": [
    "temp=sc.parallelize(range(10))"
   ]
  },
  {
   "cell_type": "code",
   "execution_count": 5,
   "id": "0c3b2f9f",
   "metadata": {},
   "outputs": [
    {
     "data": {
      "text/plain": [
       "[0, 1, 2, 3, 4, 5, 6, 7, 8, 9]"
      ]
     },
     "execution_count": 5,
     "metadata": {},
     "output_type": "execute_result"
    }
   ],
   "source": [
    "temp.collect()"
   ]
  },
  {
   "cell_type": "code",
   "execution_count": 6,
   "id": "a7118a52",
   "metadata": {},
   "outputs": [
    {
     "data": {
      "text/plain": [
       "<bound method PipelinedRDD.getNumPartitions of PythonRDD[3] at collect at C:\\Users\\Muthu\\AppData\\Local\\Temp/ipykernel_13024/2260663970.py:1>"
      ]
     },
     "execution_count": 6,
     "metadata": {},
     "output_type": "execute_result"
    }
   ],
   "source": [
    "temp.getNumPartitions"
   ]
  },
  {
   "cell_type": "code",
   "execution_count": null,
   "id": "74646b69",
   "metadata": {},
   "outputs": [],
   "source": [
    "temp."
   ]
  }
 ],
 "metadata": {
  "kernelspec": {
   "display_name": "Python 3 (ipykernel)",
   "language": "python",
   "name": "python3"
  },
  "language_info": {
   "codemirror_mode": {
    "name": "ipython",
    "version": 3
   },
   "file_extension": ".py",
   "mimetype": "text/x-python",
   "name": "python",
   "nbconvert_exporter": "python",
   "pygments_lexer": "ipython3",
   "version": "3.9.7"
  }
 },
 "nbformat": 4,
 "nbformat_minor": 5
}
