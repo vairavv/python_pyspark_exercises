{
 "cells": [
  {
   "cell_type": "markdown",
   "metadata": {},
   "source": [
    "# using end keyword in print"
   ]
  },
  {
   "cell_type": "code",
   "execution_count": 1,
   "metadata": {
    "scrolled": true
   },
   "outputs": [
    {
     "name": "stdout",
     "output_type": "stream",
     "text": [
      "4\n",
      "1234"
     ]
    }
   ],
   "source": [
    "    n = int(input())\n",
    "    for i in range(1,n+1):\n",
    "        print(i,end='')"
   ]
  },
  {
   "cell_type": "markdown",
   "metadata": {},
   "source": [
    "# using sep keyword in print"
   ]
  },
  {
   "cell_type": "code",
   "execution_count": 3,
   "metadata": {},
   "outputs": [
    {
     "name": "stdout",
     "output_type": "stream",
     "text": [
      "5\n",
      "12345\n"
     ]
    }
   ],
   "source": [
    "n = int(input())\n",
    "print(*range(1,n+1),sep=\"\") # * is used to unpack a iterable "
   ]
  },
  {
   "cell_type": "code",
   "execution_count": 5,
   "metadata": {},
   "outputs": [
    {
     "name": "stdout",
     "output_type": "stream",
     "text": [
      "1 6,1 7,1 8,1 9,2 6,2 7,2 8,2 9,3 6,3 7,3 8,3 9,4 6,4 7,4 8,4 9,"
     ]
    }
   ],
   "source": [
    "    for i in range(1,5):\n",
    "        for j in range(6,10):\n",
    "            print(i,j,end=',')"
   ]
  },
  {
   "cell_type": "code",
   "execution_count": 4,
   "metadata": {},
   "outputs": [
    {
     "name": "stdout",
     "output_type": "stream",
     "text": [
      "1,6\n",
      "1,7\n",
      "1,8\n",
      "1,9\n",
      "2,6\n",
      "2,7\n",
      "2,8\n",
      "2,9\n",
      "3,6\n",
      "3,7\n",
      "3,8\n",
      "3,9\n",
      "4,6\n",
      "4,7\n",
      "4,8\n",
      "4,9\n"
     ]
    }
   ],
   "source": [
    "    for i in range(1,5):\n",
    "        for j in range(6,10):\n",
    "            print(i,j,sep=',')"
   ]
  },
  {
   "cell_type": "code",
   "execution_count": 3,
   "metadata": {},
   "outputs": [
    {
     "name": "stdout",
     "output_type": "stream",
     "text": [
      "1 6\n",
      "1 7\n",
      "1 8\n",
      "1 9\n",
      "2 6\n",
      "2 7\n",
      "2 8\n",
      "2 9\n",
      "3 6\n",
      "3 7\n",
      "3 8\n",
      "3 9\n",
      "4 6\n",
      "4 7\n",
      "4 8\n",
      "4 9\n"
     ]
    }
   ],
   "source": [
    "    for i in range(1,5):\n",
    "        for j in range(6,10):\n",
    "            print(i,j)"
   ]
  },
  {
   "cell_type": "markdown",
   "metadata": {},
   "source": []
  }
 ],
 "metadata": {
  "kernelspec": {
   "display_name": "Python 3 (ipykernel)",
   "language": "python",
   "name": "python3"
  },
  "language_info": {
   "codemirror_mode": {
    "name": "ipython",
    "version": 3
   },
   "file_extension": ".py",
   "mimetype": "text/x-python",
   "name": "python",
   "nbconvert_exporter": "python",
   "pygments_lexer": "ipython3",
   "version": "3.9.7"
  }
 },
 "nbformat": 4,
 "nbformat_minor": 4
}
