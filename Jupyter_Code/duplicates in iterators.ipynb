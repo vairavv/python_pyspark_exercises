{
 "cells": [
  {
   "cell_type": "code",
   "execution_count": 12,
   "metadata": {},
   "outputs": [
    {
     "name": "stdout",
     "output_type": "stream",
     "text": [
      "[2, 3, 4, 6, 6, 5]\n",
      "[None, None, None]\n"
     ]
    }
   ],
   "source": [
    "lst =[2,3,4,6,6,5]\n",
    "\n",
    "print(lst)\n",
    "\n",
    "maxv=6\n",
    "\n",
    "x = [lst.remove(z) for z in lst]\n",
    "\n",
    "print(x)"
   ]
  },
  {
   "cell_type": "code",
   "execution_count": 7,
   "metadata": {},
   "outputs": [
    {
     "name": "stdout",
     "output_type": "stream",
     "text": [
      "[1, 3, 5, 7, 9, 11]\n"
     ]
    }
   ],
   "source": [
    "b =[y for y in range(0,12) if y%2==1]\n",
    "print(b)"
   ]
  },
  {
   "cell_type": "code",
   "execution_count": 18,
   "metadata": {},
   "outputs": [
    {
     "name": "stdout",
     "output_type": "stream",
     "text": [
      "1\n",
      "1\n",
      "1\n",
      "[6, 6, 6]\n"
     ]
    }
   ],
   "source": [
    "lst =[6,6,6,6,6,6]\n",
    "\n",
    "maxv =6\n",
    "\n",
    "\n",
    "for z in lst:\n",
    "    if z == maxv:\n",
    "        i=1\n",
    "        print(i)\n",
    "        lst.remove(z)\n",
    "        i=i+1\n",
    "    else:\n",
    "        print('else part',z)\n",
    "        \n",
    "print(lst)\n",
    "      "
   ]
  },
  {
   "cell_type": "code",
   "execution_count": 1,
   "metadata": {},
   "outputs": [
    {
     "name": "stdout",
     "output_type": "stream",
     "text": [
      "6\n"
     ]
    }
   ],
   "source": [
    "lst =[6,6,6,6,6,6]\n",
    "\n",
    "maxv =6\n",
    "\n",
    "length = len(lst)\n",
    "\n",
    "print(length)"
   ]
  },
  {
   "cell_type": "code",
   "execution_count": 3,
   "metadata": {},
   "outputs": [
    {
     "name": "stdout",
     "output_type": "stream",
     "text": [
      "length of the list is 5\n",
      "[2, 3, 5]\n"
     ]
    }
   ],
   "source": [
    "import copy\n",
    "\n",
    "lst =[2,3,6,6,5]\n",
    "\n",
    "maxv =6\n",
    "\n",
    "length = len(lst)\n",
    "\n",
    "print('length of the list is',length)\n",
    "\n",
    "lstcpy =lst.copy()\n",
    "\n",
    "for z in range(0,length):\n",
    "    if lstcpy[z] == maxv:\n",
    "        lst.remove(maxv)\n",
    "        \n",
    "\n",
    "print(lst)\n"
   ]
  },
  {
   "cell_type": "code",
   "execution_count": 6,
   "metadata": {},
   "outputs": [
    {
     "name": "stdout",
     "output_type": "stream",
     "text": [
      "length of the list is 6\n",
      "6\n",
      "6\n",
      "6\n",
      "6\n",
      "6\n",
      "6\n"
     ]
    }
   ],
   "source": [
    "lst =[6,6,6,6,6,6]\n",
    "\n",
    "maxv =6\n",
    "\n",
    "length = len(lst)\n",
    "\n",
    "print('length of the list is',length)\n",
    "\n",
    "for z in range(0, length):\n",
    "    print(lst[z])\n",
    "    "
   ]
  },
  {
   "cell_type": "code",
   "execution_count": 1,
   "metadata": {},
   "outputs": [
    {
     "name": "stdout",
     "output_type": "stream",
     "text": [
      "length of the list is 5\n",
      "[2, 3, 5]\n"
     ]
    }
   ],
   "source": [
    "import copy\n",
    "\n",
    "lst =[2,3,6,6,5]\n",
    "\n",
    "maxv =6\n",
    "\n",
    "length = len(lst)\n",
    "\n",
    "print('length of the list is',length)\n",
    "\n",
    "lstcpy =lst.copy()\n",
    "\n",
    "for z in lstcpy:\n",
    "    if z == maxv:\n",
    "        lst.remove(maxv)\n",
    "        \n",
    "\n",
    "print(lst)"
   ]
  },
  {
   "cell_type": "code",
   "execution_count": null,
   "metadata": {},
   "outputs": [],
   "source": []
  }
 ],
 "metadata": {
  "kernelspec": {
   "display_name": "Python 3",
   "language": "python",
   "name": "python3"
  },
  "language_info": {
   "codemirror_mode": {
    "name": "ipython",
    "version": 3
   },
   "file_extension": ".py",
   "mimetype": "text/x-python",
   "name": "python",
   "nbconvert_exporter": "python",
   "pygments_lexer": "ipython3",
   "version": "3.7.6"
  }
 },
 "nbformat": 4,
 "nbformat_minor": 4
}
