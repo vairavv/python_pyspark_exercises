{
 "cells": [
  {
   "cell_type": "code",
   "execution_count": 3,
   "metadata": {},
   "outputs": [
    {
     "name": "stdout",
     "output_type": "stream",
     "text": [
      "5 4\n",
      "23 45  76 78\n",
      "34 89 67 45\n",
      "33 44 55 77\n",
      "88 77 77 56\n",
      "34 56 67 89\n",
      "[[23, 45, 76, 78], [34, 89, 67, 45], [33, 44, 55, 77], [88, 77, 77, 56], [34, 56, 67, 89]]\n",
      "0\n",
      "[23, 34, 33, 88]\n",
      "[23, 33, 34, 88]\n",
      "[[23, 45, 76, 78], [33, 44, 55, 77], [34, 89, 67, 45], [34, 56, 67, 89], [88, 77, 77, 56]]\n",
      "23 45 76 78\n",
      "33 44 55 77\n",
      "34 89 67 45\n",
      "34 56 67 89\n",
      "88 77 77 56\n"
     ]
    }
   ],
   "source": [
    "nm = input().split()\n",
    "\n",
    "n = int(nm[0])\n",
    "m = int(nm[1])\n",
    "\n",
    "arr=[]\n",
    "for i in range(0,n):   \n",
    "    inp=input().split()\n",
    "    if len(inp)==m:\n",
    "        inp_int=list(map(lambda x:int(x),inp))\n",
    "        arr.append(inp_int)\n",
    "print(arr)\n",
    "        \n",
    "k=int(input())\n",
    "extract=[]\n",
    "\n",
    "for j in range(0,n):\n",
    "    if arr[j][k] not in extract:\n",
    "        extract.append(arr[j][k])\n",
    "print(extract)\n",
    "\n",
    "extract.sort()\n",
    "print(extract)\n",
    "\n",
    "order =[]\n",
    "for z in extract:\n",
    "    for y in range(0,n):\n",
    "        if z == arr[y][k]:\n",
    "            order.append(arr[y])\n",
    "print(order)\n",
    "\n",
    "for f in order:\n",
    "    print(*f)"
   ]
  },
  {
   "cell_type": "code",
   "execution_count": null,
   "metadata": {},
   "outputs": [],
   "source": []
  }
 ],
 "metadata": {
  "kernelspec": {
   "display_name": "Python 3",
   "language": "python",
   "name": "python3"
  },
  "language_info": {
   "codemirror_mode": {
    "name": "ipython",
    "version": 3
   },
   "file_extension": ".py",
   "mimetype": "text/x-python",
   "name": "python",
   "nbconvert_exporter": "python",
   "pygments_lexer": "ipython3",
   "version": "3.7.6"
  }
 },
 "nbformat": 4,
 "nbformat_minor": 4
}
