{
 "cells": [
  {
   "cell_type": "code",
   "execution_count": 2,
   "id": "daf933ba",
   "metadata": {},
   "outputs": [],
   "source": [
    "from pyspark.sql import SparkSession\n",
    "\n",
    "spark = SparkSession.builder.appName(\"YourSparkApplication\").master(\"local[*]\").getOrCreate()\n",
    "\n",
    "# The SparkContext is available through the SparkSession\n",
    "sc = spark.sparkContext"
   ]
  },
  {
   "cell_type": "code",
   "execution_count": 3,
   "id": "190232a8",
   "metadata": {},
   "outputs": [],
   "source": [
    "sample_rdd=sc.textFile(r\"C:\\Users\\Muthu\\Music\\data_file1.txt\")"
   ]
  },
  {
   "cell_type": "code",
   "execution_count": 4,
   "id": "ad3d2c54",
   "metadata": {},
   "outputs": [
    {
     "data": {
      "text/plain": [
       "['hi how are you',\n",
       " 'welcome to the world of spark',\n",
       " 'hope to learn consistently']"
      ]
     },
     "execution_count": 4,
     "metadata": {},
     "output_type": "execute_result"
    }
   ],
   "source": [
    "sample_rdd.collect()"
   ]
  },
  {
   "cell_type": "markdown",
   "id": "4982231c",
   "metadata": {},
   "source": [
    "# split RDD with comma delimiter"
   ]
  },
  {
   "cell_type": "code",
   "execution_count": 8,
   "id": "1acf53a9",
   "metadata": {},
   "outputs": [
    {
     "data": {
      "text/plain": [
       "[['hi how are you'],\n",
       " ['welcome to the world of spark'],\n",
       " ['hope to learn consistently']]"
      ]
     },
     "execution_count": 8,
     "metadata": {},
     "output_type": "execute_result"
    }
   ],
   "source": [
    "sample_rdd.map(lambda x:x.split(',')).collect()"
   ]
  },
  {
   "cell_type": "markdown",
   "id": "87ccc740",
   "metadata": {},
   "source": [
    "# split RDD with space(default) delimiter"
   ]
  },
  {
   "cell_type": "code",
   "execution_count": 9,
   "id": "9608a217",
   "metadata": {},
   "outputs": [
    {
     "data": {
      "text/plain": [
       "[['hi', 'how', 'are', 'you'],\n",
       " ['welcome', 'to', 'the', 'world', 'of', 'spark'],\n",
       " ['hope', 'to', 'learn', 'consistently']]"
      ]
     },
     "execution_count": 9,
     "metadata": {},
     "output_type": "execute_result"
    }
   ],
   "source": [
    "sample_rdd.map(lambda x:x.split()).collect()"
   ]
  },
  {
   "cell_type": "markdown",
   "id": "f0742bea",
   "metadata": {},
   "source": [
    "# split RDD with space delimiter using flatMap"
   ]
  },
  {
   "cell_type": "code",
   "execution_count": 7,
   "id": "10811936",
   "metadata": {},
   "outputs": [
    {
     "data": {
      "text/plain": [
       "['hi',\n",
       " 'how',\n",
       " 'are',\n",
       " 'you',\n",
       " 'welcome',\n",
       " 'to',\n",
       " 'the',\n",
       " 'world',\n",
       " 'of',\n",
       " 'spark',\n",
       " 'hope',\n",
       " 'to',\n",
       " 'learn',\n",
       " 'consistently']"
      ]
     },
     "execution_count": 7,
     "metadata": {},
     "output_type": "execute_result"
    }
   ],
   "source": [
    "sample_rdd.flatMap(lambda x:x.split()).collect()"
   ]
  },
  {
   "cell_type": "code",
   "execution_count": null,
   "id": "293cc9f0",
   "metadata": {},
   "outputs": [],
   "source": []
  }
 ],
 "metadata": {
  "kernelspec": {
   "display_name": "Python 3 (ipykernel)",
   "language": "python",
   "name": "python3"
  },
  "language_info": {
   "codemirror_mode": {
    "name": "ipython",
    "version": 3
   },
   "file_extension": ".py",
   "mimetype": "text/x-python",
   "name": "python",
   "nbconvert_exporter": "python",
   "pygments_lexer": "ipython3",
   "version": "3.9.7"
  }
 },
 "nbformat": 4,
 "nbformat_minor": 5
}
